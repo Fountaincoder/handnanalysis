{
 "cells": [
  {
   "cell_type": "markdown",
   "id": "688c9c62-d9b0-4921-b872-9fb2f18d81a1",
   "metadata": {},
   "source": [
    "# Head and Neck Cancer Data Analysis\n",
    "Jonny Edwards and Jim Moor\n",
    "\n",
    "this notebook contains all the analysis performed on the Head and Neck cancer diagnosis data"
   ]
  },
  {
   "cell_type": "code",
   "execution_count": 86,
   "id": "fdd474e1-0eff-41d2-a121-b31f7384a1ee",
   "metadata": {},
   "outputs": [
    {
     "data": {
      "text/plain": [
       "<polars.config.Config at 0x7f13b1957500>"
      ]
     },
     "execution_count": 86,
     "metadata": {},
     "output_type": "execute_result"
    }
   ],
   "source": [
    "import polars as pl\n",
    "pl.Config(tbl_rows=-1)"
   ]
  },
  {
   "cell_type": "markdown",
   "id": "7d2e5bf9-17fa-4b31-adb1-d6725b816183",
   "metadata": {},
   "source": [
    "### 1. Read in the data and provide summary statistics\n",
    "\n",
    "Let's get all the data scoped for analysis - the following breaks the data into symptoms, metadata and final diagnosis."
   ]
  },
  {
   "cell_type": "code",
   "execution_count": 87,
   "id": "5595cae4-0efe-4da8-819e-82a57751b45b",
   "metadata": {},
   "outputs": [],
   "source": [
    "df = pl.read_csv(\"maindata.csv\")"
   ]
  },
  {
   "cell_type": "code",
   "execution_count": 88,
   "id": "a832a6d7-8fad-4bb6-aeed-8d98924b5ef0",
   "metadata": {},
   "outputs": [],
   "source": [
    "df_meta = df[[\"Age\",\"Ht\",\"Weight\", \"BMI\", 'TotalNoSymptoms']]"
   ]
  },
  {
   "cell_type": "code",
   "execution_count": 89,
   "id": "08b5d202-c0fc-472b-88b8-2a5900903e6c",
   "metadata": {},
   "outputs": [],
   "source": [
    "df_diagnosis = df[[\"Diagnostic group\"]]"
   ]
  },
  {
   "cell_type": "code",
   "execution_count": 90,
   "id": "5f243dd4-8029-48ca-aba5-ece104d33f63",
   "metadata": {},
   "outputs": [],
   "source": [
    "df_symptoms = df[['HoarseVoice', 'DiffSwal', 'PainSwal', 'Otalgia', 'UnilatNO', 'NeckLump', 'ThroatLump', 'FOSIT', 'SoreThroat']]"
   ]
  },
  {
   "cell_type": "markdown",
   "id": "ee77676a-ee38-499f-a9d5-f76628db58b3",
   "metadata": {},
   "source": [
    "## 1a. Summary Statistics for symptoms"
   ]
  },
  {
   "cell_type": "code",
   "execution_count": 91,
   "id": "1c307474-9867-41f2-bd12-a769a40f7b84",
   "metadata": {},
   "outputs": [],
   "source": [
    "symptom_summary = df_symptoms.unpivot().group_by(pl.all()).len()"
   ]
  },
  {
   "cell_type": "code",
   "execution_count": 92,
   "id": "a1c14023-0770-4ad2-97fb-f168849c012a",
   "metadata": {},
   "outputs": [
    {
     "name": "stdout",
     "output_type": "stream",
     "text": [
      "shape: (27, 3)\n",
      "┌─────────────┬───────┬─────┐\n",
      "│ variable    ┆ value ┆ len │\n",
      "│ ---         ┆ ---   ┆ --- │\n",
      "│ str         ┆ i64   ┆ u32 │\n",
      "╞═════════════╪═══════╪═════╡\n",
      "│ DiffSwal    ┆ null  ┆ 1   │\n",
      "│ DiffSwal    ┆ 0     ┆ 281 │\n",
      "│ DiffSwal    ┆ 1     ┆ 162 │\n",
      "│ FOSIT       ┆ null  ┆ 2   │\n",
      "│ FOSIT       ┆ 0     ┆ 228 │\n",
      "│ FOSIT       ┆ 1     ┆ 214 │\n",
      "│ HoarseVoice ┆ null  ┆ 1   │\n",
      "│ HoarseVoice ┆ 0     ┆ 237 │\n",
      "│ HoarseVoice ┆ 1     ┆ 206 │\n",
      "│ NeckLump    ┆ null  ┆ 1   │\n",
      "│ NeckLump    ┆ 0     ┆ 297 │\n",
      "│ NeckLump    ┆ 1     ┆ 146 │\n",
      "│ Otalgia     ┆ null  ┆ 2   │\n",
      "│ Otalgia     ┆ 0     ┆ 337 │\n",
      "│ Otalgia     ┆ 1     ┆ 105 │\n",
      "│ PainSwal    ┆ null  ┆ 1   │\n",
      "│ PainSwal    ┆ 0     ┆ 325 │\n",
      "│ PainSwal    ┆ 1     ┆ 118 │\n",
      "│ SoreThroat  ┆ null  ┆ 1   │\n",
      "│ SoreThroat  ┆ 0     ┆ 255 │\n",
      "│ SoreThroat  ┆ 1     ┆ 188 │\n",
      "│ ThroatLump  ┆ null  ┆ 1   │\n",
      "│ ThroatLump  ┆ 0     ┆ 343 │\n",
      "│ ThroatLump  ┆ 1     ┆ 100 │\n",
      "│ UnilatNO    ┆ null  ┆ 1   │\n",
      "│ UnilatNO    ┆ 0     ┆ 348 │\n",
      "│ UnilatNO    ┆ 1     ┆ 95  │\n",
      "└─────────────┴───────┴─────┘\n"
     ]
    }
   ],
   "source": [
    "print(symptom_summary.sort([\"variable\",\"value\"]))"
   ]
  },
  {
   "cell_type": "markdown",
   "id": "2399f5b3-ba06-487e-ab9c-607a3156e4b4",
   "metadata": {},
   "source": [
    "## 1b. Summary of the metadata statistics"
   ]
  },
  {
   "cell_type": "code",
   "execution_count": 93,
   "id": "8670589d-6ffd-43eb-b504-315d7d31ba10",
   "metadata": {},
   "outputs": [
    {
     "name": "stdout",
     "output_type": "stream",
     "text": [
      "shape: (9, 6)\n",
      "┌────────────┬───────────┬──────────┬───────────┬───────────┬─────────────────┐\n",
      "│ statistic  ┆ Age       ┆ Ht       ┆ Weight    ┆ BMI       ┆ TotalNoSymptoms │\n",
      "│ ---        ┆ ---       ┆ ---      ┆ ---       ┆ ---       ┆ ---             │\n",
      "│ str        ┆ f64       ┆ f64      ┆ f64       ┆ f64       ┆ f64             │\n",
      "╞════════════╪═══════════╪══════════╪═══════════╪═══════════╪═════════════════╡\n",
      "│ count      ┆ 271.0     ┆ 443.0    ┆ 443.0     ┆ 443.0     ┆ 272.0           │\n",
      "│ null_count ┆ 173.0     ┆ 1.0      ┆ 1.0       ┆ 1.0       ┆ 172.0           │\n",
      "│ mean       ┆ 53.762696 ┆ 1.667409 ┆ 82.342551 ┆ 28.378281 ┆ 2.514706        │\n",
      "│ std        ┆ 17.537169 ┆ 0.098936 ┆ 52.996724 ┆ 6.315923  ┆ 1.683369        │\n",
      "│ min        ┆ 9.130732  ┆ 1.39     ┆ 28.95     ┆ 14.561642 ┆ 0.0             │\n",
      "│ 25%        ┆ 41.64271  ┆ 1.6      ┆ 65.7      ┆ 23.977078 ┆ 1.0             │\n",
      "│ 50%        ┆ 53.36345  ┆ 1.66     ┆ 75.4      ┆ 27.290303 ┆ 2.0             │\n",
      "│ 75%        ┆ 66.992471 ┆ 1.74     ┆ 91.05     ┆ 31.590986 ┆ 3.0             │\n",
      "│ max        ┆ 90.699521 ┆ 1.96     ┆ 815.0     ┆ 55.960583 ┆ 8.0             │\n",
      "└────────────┴───────────┴──────────┴───────────┴───────────┴─────────────────┘\n"
     ]
    }
   ],
   "source": [
    "print(df_meta.describe())"
   ]
  },
  {
   "cell_type": "markdown",
   "id": "d547d103-9060-46c9-8bd6-38ea62c54d26",
   "metadata": {},
   "source": [
    "## 1c. Summary of the diagnosis data"
   ]
  },
  {
   "cell_type": "code",
   "execution_count": 94,
   "id": "7a45bb4e-9eb1-45c1-88d5-c232c718f72e",
   "metadata": {},
   "outputs": [
    {
     "name": "stdout",
     "output_type": "stream",
     "text": [
      "shape: (6, 3)\n",
      "┌──────────────────┬─────────────────────────────────┬─────┐\n",
      "│ variable         ┆ value                           ┆ len │\n",
      "│ ---              ┆ ---                             ┆ --- │\n",
      "│ str              ┆ str                             ┆ u32 │\n",
      "╞══════════════════╪═════════════════════════════════╪═════╡\n",
      "│ Diagnostic group ┆ Non-cancer                      ┆ 420 │\n",
      "│ Diagnostic group ┆ RIP                             ┆ 1   │\n",
      "│ Diagnostic group ┆ Not confirmed                   ┆ 1   │\n",
      "│ Diagnostic group ┆ Cancer                          ┆ 20  │\n",
      "│ Diagnostic group ┆ ?                               ┆ 1   │\n",
      "│ Diagnostic group ┆ Cancer (diagnosed prior to 2ww… ┆ 1   │\n",
      "└──────────────────┴─────────────────────────────────┴─────┘\n",
      "shape: (2, 3)\n",
      "┌──────────────────┬───────┬─────┐\n",
      "│ variable         ┆ value ┆ len │\n",
      "│ ---              ┆ ---   ┆ --- │\n",
      "│ str              ┆ bool  ┆ u32 │\n",
      "╞══════════════════╪═══════╪═════╡\n",
      "│ Diagnostic group ┆ true  ┆ 20  │\n",
      "│ Diagnostic group ┆ false ┆ 424 │\n",
      "└──────────────────┴───────┴─────┘\n"
     ]
    }
   ],
   "source": [
    "print(df_diagnosis.unpivot().group_by(pl.all()).len())\n",
    "df_diagnosis_updated = df_diagnosis==\"Cancer\"\n",
    "print(df_diagnosis_updated.unpivot().group_by(pl.all()).len())"
   ]
  },
  {
   "cell_type": "markdown",
   "id": "245623a3-ef0f-416c-920a-415826f18933",
   "metadata": {},
   "source": [
    "## 2. Avg statistics per diagnostic group"
   ]
  },
  {
   "cell_type": "code",
   "execution_count": 95,
   "id": "bc891f76-c3cd-416e-a3f3-5f689db008f5",
   "metadata": {},
   "outputs": [],
   "source": [
    "df = df.with_columns(\n",
    "    Cancer = (df[\"Diagnostic group\"]==\"Cancer\")\n",
    ")"
   ]
  },
  {
   "cell_type": "code",
   "execution_count": 96,
   "id": "af4c0f34-da26-4d6f-8bd1-0889186826bd",
   "metadata": {},
   "outputs": [
    {
     "name": "stdout",
     "output_type": "stream",
     "text": [
      "shape: (2, 3)\n",
      "┌────────┬───────────┬───────────┐\n",
      "│ Cancer ┆ Means     ┆ Stds      │\n",
      "│ ---    ┆ ---       ┆ ---       │\n",
      "│ bool   ┆ f64       ┆ f64       │\n",
      "╞════════╪═══════════╪═══════════╡\n",
      "│ true   ┆ 55.011864 ┆ 18.841348 │\n",
      "│ false  ┆ 53.70482  ┆ 17.5113   │\n",
      "└────────┴───────────┴───────────┘\n"
     ]
    }
   ],
   "source": [
    "print(df.group_by(\"Cancer\").agg(pl.col(\"Age\").mean().alias(\"Means\"),pl.col(\"Age\").std().alias(\"Stds\")))"
   ]
  },
  {
   "cell_type": "code",
   "execution_count": 97,
   "id": "4ee9b9b8-e5fe-4385-b060-5f2e311f6c17",
   "metadata": {},
   "outputs": [
    {
     "name": "stdout",
     "output_type": "stream",
     "text": [
      "shape: (2, 3)\n",
      "┌────────┬───────────┬──────────┐\n",
      "│ Cancer ┆ Means     ┆ Stds     │\n",
      "│ ---    ┆ ---       ┆ ---      │\n",
      "│ bool   ┆ f64       ┆ f64      │\n",
      "╞════════╪═══════════╪══════════╡\n",
      "│ true   ┆ 27.210646 ┆ 4.215683 │\n",
      "│ false  ┆ 28.433488 ┆ 6.396375 │\n",
      "└────────┴───────────┴──────────┘\n"
     ]
    }
   ],
   "source": [
    "print(df.group_by(\"Cancer\").agg(pl.col(\"BMI\").mean().alias(\"Means\"),pl.col(\"BMI\").std().alias(\"Stds\")))"
   ]
  },
  {
   "cell_type": "code",
   "execution_count": 98,
   "id": "0de0365c-6e0b-456b-8cba-7c4b36be7fb8",
   "metadata": {},
   "outputs": [],
   "source": [
    "import pandas as pd\n",
    "import numpy as np\n",
    "from sklearn.decomposition import PCA\n",
    "\n",
    "pca_x = df_meta.fill_null(0).to_numpy()\n",
    "#o = np.isnan(pca_x)\n",
    "#pca_x = pca_x[o] = 0\n",
    "pca = PCA(n_components=5)\n",
    "pca.fit(pca_x)\n",
    "components = pca.fit_transform(pca_x)\n",
    "var_values = pca.explained_variance_ratio_"
   ]
  },
  {
   "cell_type": "code",
   "execution_count": 99,
   "id": "a571c69f-0e07-42d8-8f33-2cf05a71e447",
   "metadata": {},
   "outputs": [
    {
     "data": {
      "text/html": [
       "    <style>\n",
       "        .bk-notebook-logo {\n",
       "            display: block;\n",
       "            width: 20px;\n",
       "            height: 20px;\n",
       "            background-image: url(data:image/png;base64,iVBORw0KGgoAAAANSUhEUgAAABQAAAAUCAYAAACNiR0NAAAABHNCSVQICAgIfAhkiAAAAAlwSFlzAAALEgAACxIB0t1+/AAAABx0RVh0U29mdHdhcmUAQWRvYmUgRmlyZXdvcmtzIENTNui8sowAAAOkSURBVDiNjZRtaJVlGMd/1/08zzln5zjP1LWcU9N0NkN8m2CYjpgQYQXqSs0I84OLIC0hkEKoPtiH3gmKoiJDU7QpLgoLjLIQCpEsNJ1vqUOdO7ppbuec5+V+rj4ctwzd8IIbbi6u+8f1539dt3A78eXC7QizUF7gyV1fD1Yqg4JWz84yffhm0qkFqBogB9rM8tZdtwVsPUhWhGcFJngGeWrPzHm5oaMmkfEg1usvLFyc8jLRqDOMru7AyC8saQr7GG7f5fvDeH7Ej8CM66nIF+8yngt6HWaKh7k49Soy9nXurCi1o3qUbS3zWfrYeQDTB/Qj6kX6Ybhw4B+bOYoLKCC9H3Nu/leUTZ1JdRWkkn2ldcCamzrcf47KKXdAJllSlxAOkRgyHsGC/zRday5Qld9DyoM4/q/rUoy/CXh3jzOu3bHUVZeU+DEn8FInkPBFlu3+nW3Nw0mk6vCDiWg8CeJaxEwuHS3+z5RgY+YBR6V1Z1nxSOfoaPa4LASWxxdNp+VWTk7+4vzaou8v8PN+xo+KY2xsw6une2frhw05CTYOmQvsEhjhWjn0bmXPjpE1+kplmmkP3suftwTubK9Vq22qKmrBhpY4jvd5afdRA3wGjFAgcnTK2s4hY0/GPNIb0nErGMCRxWOOX64Z8RAC4oCXdklmEvcL8o0BfkNK4lUg9HTl+oPlQxdNo3Mg4Nv175e/1LDGzZen30MEjRUtmXSfiTVu1kK8W4txyV6BMKlbgk3lMwYCiusNy9fVfvvwMxv8Ynl6vxoByANLTWplvuj/nF9m2+PDtt1eiHPBr1oIfhCChQMBw6Aw0UulqTKZdfVvfG7VcfIqLG9bcldL/+pdWTLxLUy8Qq38heUIjh4XlzZxzQm19lLFlr8vdQ97rjZVOLf8nclzckbcD4wxXMidpX30sFd37Fv/GtwwhzhxGVAprjbg0gCAEeIgwCZyTV2Z1REEW8O4py0wsjeloKoMr6iCY6dP92H6Vw/oTyICIthibxjm/DfN9lVz8IqtqKYLUXfoKVMVQVVJOElGjrnnUt9T9wbgp8AyYKaGlqingHZU/uG2NTZSVqwHQTWkx9hxjkpWDaCg6Ckj5qebgBVbT3V3NNXMSiWSDdGV3hrtzla7J+duwPOToIg42ChPQOQjspnSlp1V+Gjdged7+8UN5CRAV7a5EdFNwCjEaBR27b3W890TE7g24NAP/mMDXRWrGoFPQI9ls/MWO2dWFAar/xcOIImbbpA3zgAAAABJRU5ErkJggg==);\n",
       "        }\n",
       "    </style>\n",
       "    <div>\n",
       "        <a href=\"https://bokeh.org\" target=\"_blank\" class=\"bk-notebook-logo\"></a>\n",
       "        <span id=\"be24a10a-e268-4eb2-b167-f6dcf49bfd7f\">Loading BokehJS ...</span>\n",
       "    </div>\n"
      ]
     },
     "metadata": {},
     "output_type": "display_data"
    },
    {
     "data": {
      "application/javascript": [
       "'use strict';\n",
       "(function(root) {\n",
       "  function now() {\n",
       "    return new Date();\n",
       "  }\n",
       "\n",
       "  const force = true;\n",
       "\n",
       "  if (typeof root._bokeh_onload_callbacks === \"undefined\" || force === true) {\n",
       "    root._bokeh_onload_callbacks = [];\n",
       "    root._bokeh_is_loading = undefined;\n",
       "  }\n",
       "\n",
       "const JS_MIME_TYPE = 'application/javascript';\n",
       "  const HTML_MIME_TYPE = 'text/html';\n",
       "  const EXEC_MIME_TYPE = 'application/vnd.bokehjs_exec.v0+json';\n",
       "  const CLASS_NAME = 'output_bokeh rendered_html';\n",
       "\n",
       "  /**\n",
       "   * Render data to the DOM node\n",
       "   */\n",
       "  function render(props, node) {\n",
       "    const script = document.createElement(\"script\");\n",
       "    node.appendChild(script);\n",
       "  }\n",
       "\n",
       "  /**\n",
       "   * Handle when an output is cleared or removed\n",
       "   */\n",
       "  function handleClearOutput(event, handle) {\n",
       "    function drop(id) {\n",
       "      const view = Bokeh.index.get_by_id(id)\n",
       "      if (view != null) {\n",
       "        view.model.document.clear()\n",
       "        Bokeh.index.delete(view)\n",
       "      }\n",
       "    }\n",
       "\n",
       "    const cell = handle.cell;\n",
       "\n",
       "    const id = cell.output_area._bokeh_element_id;\n",
       "    const server_id = cell.output_area._bokeh_server_id;\n",
       "\n",
       "    // Clean up Bokeh references\n",
       "    if (id != null) {\n",
       "      drop(id)\n",
       "    }\n",
       "\n",
       "    if (server_id !== undefined) {\n",
       "      // Clean up Bokeh references\n",
       "      const cmd_clean = \"from bokeh.io.state import curstate; print(curstate().uuid_to_server['\" + server_id + \"'].get_sessions()[0].document.roots[0]._id)\";\n",
       "      cell.notebook.kernel.execute(cmd_clean, {\n",
       "        iopub: {\n",
       "          output: function(msg) {\n",
       "            const id = msg.content.text.trim()\n",
       "            drop(id)\n",
       "          }\n",
       "        }\n",
       "      });\n",
       "      // Destroy server and session\n",
       "      const cmd_destroy = \"import bokeh.io.notebook as ion; ion.destroy_server('\" + server_id + \"')\";\n",
       "      cell.notebook.kernel.execute(cmd_destroy);\n",
       "    }\n",
       "  }\n",
       "\n",
       "  /**\n",
       "   * Handle when a new output is added\n",
       "   */\n",
       "  function handleAddOutput(event, handle) {\n",
       "    const output_area = handle.output_area;\n",
       "    const output = handle.output;\n",
       "\n",
       "    // limit handleAddOutput to display_data with EXEC_MIME_TYPE content only\n",
       "    if ((output.output_type != \"display_data\") || (!Object.prototype.hasOwnProperty.call(output.data, EXEC_MIME_TYPE))) {\n",
       "      return\n",
       "    }\n",
       "\n",
       "    const toinsert = output_area.element.find(\".\" + CLASS_NAME.split(' ')[0]);\n",
       "\n",
       "    if (output.metadata[EXEC_MIME_TYPE][\"id\"] !== undefined) {\n",
       "      toinsert[toinsert.length - 1].firstChild.textContent = output.data[JS_MIME_TYPE];\n",
       "      // store reference to embed id on output_area\n",
       "      output_area._bokeh_element_id = output.metadata[EXEC_MIME_TYPE][\"id\"];\n",
       "    }\n",
       "    if (output.metadata[EXEC_MIME_TYPE][\"server_id\"] !== undefined) {\n",
       "      const bk_div = document.createElement(\"div\");\n",
       "      bk_div.innerHTML = output.data[HTML_MIME_TYPE];\n",
       "      const script_attrs = bk_div.children[0].attributes;\n",
       "      for (let i = 0; i < script_attrs.length; i++) {\n",
       "        toinsert[toinsert.length - 1].firstChild.setAttribute(script_attrs[i].name, script_attrs[i].value);\n",
       "        toinsert[toinsert.length - 1].firstChild.textContent = bk_div.children[0].textContent\n",
       "      }\n",
       "      // store reference to server id on output_area\n",
       "      output_area._bokeh_server_id = output.metadata[EXEC_MIME_TYPE][\"server_id\"];\n",
       "    }\n",
       "  }\n",
       "\n",
       "  function register_renderer(events, OutputArea) {\n",
       "\n",
       "    function append_mime(data, metadata, element) {\n",
       "      // create a DOM node to render to\n",
       "      const toinsert = this.create_output_subarea(\n",
       "        metadata,\n",
       "        CLASS_NAME,\n",
       "        EXEC_MIME_TYPE\n",
       "      );\n",
       "      this.keyboard_manager.register_events(toinsert);\n",
       "      // Render to node\n",
       "      const props = {data: data, metadata: metadata[EXEC_MIME_TYPE]};\n",
       "      render(props, toinsert[toinsert.length - 1]);\n",
       "      element.append(toinsert);\n",
       "      return toinsert\n",
       "    }\n",
       "\n",
       "    /* Handle when an output is cleared or removed */\n",
       "    events.on('clear_output.CodeCell', handleClearOutput);\n",
       "    events.on('delete.Cell', handleClearOutput);\n",
       "\n",
       "    /* Handle when a new output is added */\n",
       "    events.on('output_added.OutputArea', handleAddOutput);\n",
       "\n",
       "    /**\n",
       "     * Register the mime type and append_mime function with output_area\n",
       "     */\n",
       "    OutputArea.prototype.register_mime_type(EXEC_MIME_TYPE, append_mime, {\n",
       "      /* Is output safe? */\n",
       "      safe: true,\n",
       "      /* Index of renderer in `output_area.display_order` */\n",
       "      index: 0\n",
       "    });\n",
       "  }\n",
       "\n",
       "  // register the mime type if in Jupyter Notebook environment and previously unregistered\n",
       "  if (root.Jupyter !== undefined) {\n",
       "    const events = require('base/js/events');\n",
       "    const OutputArea = require('notebook/js/outputarea').OutputArea;\n",
       "\n",
       "    if (OutputArea.prototype.mime_types().indexOf(EXEC_MIME_TYPE) == -1) {\n",
       "      register_renderer(events, OutputArea);\n",
       "    }\n",
       "  }\n",
       "  if (typeof (root._bokeh_timeout) === \"undefined\" || force === true) {\n",
       "    root._bokeh_timeout = Date.now() + 5000;\n",
       "    root._bokeh_failed_load = false;\n",
       "  }\n",
       "\n",
       "  const NB_LOAD_WARNING = {'data': {'text/html':\n",
       "     \"<div style='background-color: #fdd'>\\n\"+\n",
       "     \"<p>\\n\"+\n",
       "     \"BokehJS does not appear to have successfully loaded. If loading BokehJS from CDN, this \\n\"+\n",
       "     \"may be due to a slow or bad network connection. Possible fixes:\\n\"+\n",
       "     \"</p>\\n\"+\n",
       "     \"<ul>\\n\"+\n",
       "     \"<li>re-rerun `output_notebook()` to attempt to load from CDN again, or</li>\\n\"+\n",
       "     \"<li>use INLINE resources instead, as so:</li>\\n\"+\n",
       "     \"</ul>\\n\"+\n",
       "     \"<code>\\n\"+\n",
       "     \"from bokeh.resources import INLINE\\n\"+\n",
       "     \"output_notebook(resources=INLINE)\\n\"+\n",
       "     \"</code>\\n\"+\n",
       "     \"</div>\"}};\n",
       "\n",
       "  function display_loaded(error = null) {\n",
       "    const el = document.getElementById(\"be24a10a-e268-4eb2-b167-f6dcf49bfd7f\");\n",
       "    if (el != null) {\n",
       "      const html = (() => {\n",
       "        if (typeof root.Bokeh === \"undefined\") {\n",
       "          if (error == null) {\n",
       "            return \"BokehJS is loading ...\";\n",
       "          } else {\n",
       "            return \"BokehJS failed to load.\";\n",
       "          }\n",
       "        } else {\n",
       "          const prefix = `BokehJS ${root.Bokeh.version}`;\n",
       "          if (error == null) {\n",
       "            return `${prefix} successfully loaded.`;\n",
       "          } else {\n",
       "            return `${prefix} <b>encountered errors</b> while loading and may not function as expected.`;\n",
       "          }\n",
       "        }\n",
       "      })();\n",
       "      el.innerHTML = html;\n",
       "\n",
       "      if (error != null) {\n",
       "        const wrapper = document.createElement(\"div\");\n",
       "        wrapper.style.overflow = \"auto\";\n",
       "        wrapper.style.height = \"5em\";\n",
       "        wrapper.style.resize = \"vertical\";\n",
       "        const content = document.createElement(\"div\");\n",
       "        content.style.fontFamily = \"monospace\";\n",
       "        content.style.whiteSpace = \"pre-wrap\";\n",
       "        content.style.backgroundColor = \"rgb(255, 221, 221)\";\n",
       "        content.textContent = error.stack ?? error.toString();\n",
       "        wrapper.append(content);\n",
       "        el.append(wrapper);\n",
       "      }\n",
       "    } else if (Date.now() < root._bokeh_timeout) {\n",
       "      setTimeout(() => display_loaded(error), 100);\n",
       "    }\n",
       "  }\n",
       "\n",
       "  function run_callbacks() {\n",
       "    try {\n",
       "      root._bokeh_onload_callbacks.forEach(function(callback) {\n",
       "        if (callback != null)\n",
       "          callback();\n",
       "      });\n",
       "    } finally {\n",
       "      delete root._bokeh_onload_callbacks\n",
       "    }\n",
       "    console.debug(\"Bokeh: all callbacks have finished\");\n",
       "  }\n",
       "\n",
       "  function load_libs(css_urls, js_urls, callback) {\n",
       "    if (css_urls == null) css_urls = [];\n",
       "    if (js_urls == null) js_urls = [];\n",
       "\n",
       "    root._bokeh_onload_callbacks.push(callback);\n",
       "    if (root._bokeh_is_loading > 0) {\n",
       "      console.debug(\"Bokeh: BokehJS is being loaded, scheduling callback at\", now());\n",
       "      return null;\n",
       "    }\n",
       "    if (js_urls == null || js_urls.length === 0) {\n",
       "      run_callbacks();\n",
       "      return null;\n",
       "    }\n",
       "    console.debug(\"Bokeh: BokehJS not loaded, scheduling load and callback at\", now());\n",
       "    root._bokeh_is_loading = css_urls.length + js_urls.length;\n",
       "\n",
       "    function on_load() {\n",
       "      root._bokeh_is_loading--;\n",
       "      if (root._bokeh_is_loading === 0) {\n",
       "        console.debug(\"Bokeh: all BokehJS libraries/stylesheets loaded\");\n",
       "        run_callbacks()\n",
       "      }\n",
       "    }\n",
       "\n",
       "    function on_error(url) {\n",
       "      console.error(\"failed to load \" + url);\n",
       "    }\n",
       "\n",
       "    for (let i = 0; i < css_urls.length; i++) {\n",
       "      const url = css_urls[i];\n",
       "      const element = document.createElement(\"link\");\n",
       "      element.onload = on_load;\n",
       "      element.onerror = on_error.bind(null, url);\n",
       "      element.rel = \"stylesheet\";\n",
       "      element.type = \"text/css\";\n",
       "      element.href = url;\n",
       "      console.debug(\"Bokeh: injecting link tag for BokehJS stylesheet: \", url);\n",
       "      document.body.appendChild(element);\n",
       "    }\n",
       "\n",
       "    for (let i = 0; i < js_urls.length; i++) {\n",
       "      const url = js_urls[i];\n",
       "      const element = document.createElement('script');\n",
       "      element.onload = on_load;\n",
       "      element.onerror = on_error.bind(null, url);\n",
       "      element.async = false;\n",
       "      element.src = url;\n",
       "      console.debug(\"Bokeh: injecting script tag for BokehJS library: \", url);\n",
       "      document.head.appendChild(element);\n",
       "    }\n",
       "  };\n",
       "\n",
       "  function inject_raw_css(css) {\n",
       "    const element = document.createElement(\"style\");\n",
       "    element.appendChild(document.createTextNode(css));\n",
       "    document.body.appendChild(element);\n",
       "  }\n",
       "\n",
       "  const js_urls = [\"https://cdn.bokeh.org/bokeh/release/bokeh-3.6.0.min.js\", \"https://cdn.bokeh.org/bokeh/release/bokeh-gl-3.6.0.min.js\", \"https://cdn.bokeh.org/bokeh/release/bokeh-widgets-3.6.0.min.js\", \"https://cdn.bokeh.org/bokeh/release/bokeh-tables-3.6.0.min.js\", \"https://cdn.bokeh.org/bokeh/release/bokeh-mathjax-3.6.0.min.js\"];\n",
       "  const css_urls = [];\n",
       "\n",
       "  const inline_js = [    function(Bokeh) {\n",
       "      Bokeh.set_log_level(\"info\");\n",
       "    },\n",
       "function(Bokeh) {\n",
       "    }\n",
       "  ];\n",
       "\n",
       "  function run_inline_js() {\n",
       "    if (root.Bokeh !== undefined || force === true) {\n",
       "      try {\n",
       "            for (let i = 0; i < inline_js.length; i++) {\n",
       "      inline_js[i].call(root, root.Bokeh);\n",
       "    }\n",
       "\n",
       "      } catch (error) {display_loaded(error);throw error;\n",
       "      }if (force === true) {\n",
       "        display_loaded();\n",
       "      }} else if (Date.now() < root._bokeh_timeout) {\n",
       "      setTimeout(run_inline_js, 100);\n",
       "    } else if (!root._bokeh_failed_load) {\n",
       "      console.log(\"Bokeh: BokehJS failed to load within specified timeout.\");\n",
       "      root._bokeh_failed_load = true;\n",
       "    } else if (force !== true) {\n",
       "      const cell = $(document.getElementById(\"be24a10a-e268-4eb2-b167-f6dcf49bfd7f\")).parents('.cell').data().cell;\n",
       "      cell.output_area.append_execute_result(NB_LOAD_WARNING)\n",
       "    }\n",
       "  }\n",
       "\n",
       "  if (root._bokeh_is_loading === 0) {\n",
       "    console.debug(\"Bokeh: BokehJS loaded, going straight to plotting\");\n",
       "    run_inline_js();\n",
       "  } else {\n",
       "    load_libs(css_urls, js_urls, function() {\n",
       "      console.debug(\"Bokeh: BokehJS plotting callback run at\", now());\n",
       "      run_inline_js();\n",
       "    });\n",
       "  }\n",
       "}(window));"
      ],
      "application/vnd.bokehjs_load.v0+json": "'use strict';\n(function(root) {\n  function now() {\n    return new Date();\n  }\n\n  const force = true;\n\n  if (typeof root._bokeh_onload_callbacks === \"undefined\" || force === true) {\n    root._bokeh_onload_callbacks = [];\n    root._bokeh_is_loading = undefined;\n  }\n\n\n  if (typeof (root._bokeh_timeout) === \"undefined\" || force === true) {\n    root._bokeh_timeout = Date.now() + 5000;\n    root._bokeh_failed_load = false;\n  }\n\n  const NB_LOAD_WARNING = {'data': {'text/html':\n     \"<div style='background-color: #fdd'>\\n\"+\n     \"<p>\\n\"+\n     \"BokehJS does not appear to have successfully loaded. If loading BokehJS from CDN, this \\n\"+\n     \"may be due to a slow or bad network connection. Possible fixes:\\n\"+\n     \"</p>\\n\"+\n     \"<ul>\\n\"+\n     \"<li>re-rerun `output_notebook()` to attempt to load from CDN again, or</li>\\n\"+\n     \"<li>use INLINE resources instead, as so:</li>\\n\"+\n     \"</ul>\\n\"+\n     \"<code>\\n\"+\n     \"from bokeh.resources import INLINE\\n\"+\n     \"output_notebook(resources=INLINE)\\n\"+\n     \"</code>\\n\"+\n     \"</div>\"}};\n\n  function display_loaded(error = null) {\n    const el = document.getElementById(\"be24a10a-e268-4eb2-b167-f6dcf49bfd7f\");\n    if (el != null) {\n      const html = (() => {\n        if (typeof root.Bokeh === \"undefined\") {\n          if (error == null) {\n            return \"BokehJS is loading ...\";\n          } else {\n            return \"BokehJS failed to load.\";\n          }\n        } else {\n          const prefix = `BokehJS ${root.Bokeh.version}`;\n          if (error == null) {\n            return `${prefix} successfully loaded.`;\n          } else {\n            return `${prefix} <b>encountered errors</b> while loading and may not function as expected.`;\n          }\n        }\n      })();\n      el.innerHTML = html;\n\n      if (error != null) {\n        const wrapper = document.createElement(\"div\");\n        wrapper.style.overflow = \"auto\";\n        wrapper.style.height = \"5em\";\n        wrapper.style.resize = \"vertical\";\n        const content = document.createElement(\"div\");\n        content.style.fontFamily = \"monospace\";\n        content.style.whiteSpace = \"pre-wrap\";\n        content.style.backgroundColor = \"rgb(255, 221, 221)\";\n        content.textContent = error.stack ?? error.toString();\n        wrapper.append(content);\n        el.append(wrapper);\n      }\n    } else if (Date.now() < root._bokeh_timeout) {\n      setTimeout(() => display_loaded(error), 100);\n    }\n  }\n\n  function run_callbacks() {\n    try {\n      root._bokeh_onload_callbacks.forEach(function(callback) {\n        if (callback != null)\n          callback();\n      });\n    } finally {\n      delete root._bokeh_onload_callbacks\n    }\n    console.debug(\"Bokeh: all callbacks have finished\");\n  }\n\n  function load_libs(css_urls, js_urls, callback) {\n    if (css_urls == null) css_urls = [];\n    if (js_urls == null) js_urls = [];\n\n    root._bokeh_onload_callbacks.push(callback);\n    if (root._bokeh_is_loading > 0) {\n      console.debug(\"Bokeh: BokehJS is being loaded, scheduling callback at\", now());\n      return null;\n    }\n    if (js_urls == null || js_urls.length === 0) {\n      run_callbacks();\n      return null;\n    }\n    console.debug(\"Bokeh: BokehJS not loaded, scheduling load and callback at\", now());\n    root._bokeh_is_loading = css_urls.length + js_urls.length;\n\n    function on_load() {\n      root._bokeh_is_loading--;\n      if (root._bokeh_is_loading === 0) {\n        console.debug(\"Bokeh: all BokehJS libraries/stylesheets loaded\");\n        run_callbacks()\n      }\n    }\n\n    function on_error(url) {\n      console.error(\"failed to load \" + url);\n    }\n\n    for (let i = 0; i < css_urls.length; i++) {\n      const url = css_urls[i];\n      const element = document.createElement(\"link\");\n      element.onload = on_load;\n      element.onerror = on_error.bind(null, url);\n      element.rel = \"stylesheet\";\n      element.type = \"text/css\";\n      element.href = url;\n      console.debug(\"Bokeh: injecting link tag for BokehJS stylesheet: \", url);\n      document.body.appendChild(element);\n    }\n\n    for (let i = 0; i < js_urls.length; i++) {\n      const url = js_urls[i];\n      const element = document.createElement('script');\n      element.onload = on_load;\n      element.onerror = on_error.bind(null, url);\n      element.async = false;\n      element.src = url;\n      console.debug(\"Bokeh: injecting script tag for BokehJS library: \", url);\n      document.head.appendChild(element);\n    }\n  };\n\n  function inject_raw_css(css) {\n    const element = document.createElement(\"style\");\n    element.appendChild(document.createTextNode(css));\n    document.body.appendChild(element);\n  }\n\n  const js_urls = [\"https://cdn.bokeh.org/bokeh/release/bokeh-3.6.0.min.js\", \"https://cdn.bokeh.org/bokeh/release/bokeh-gl-3.6.0.min.js\", \"https://cdn.bokeh.org/bokeh/release/bokeh-widgets-3.6.0.min.js\", \"https://cdn.bokeh.org/bokeh/release/bokeh-tables-3.6.0.min.js\", \"https://cdn.bokeh.org/bokeh/release/bokeh-mathjax-3.6.0.min.js\"];\n  const css_urls = [];\n\n  const inline_js = [    function(Bokeh) {\n      Bokeh.set_log_level(\"info\");\n    },\nfunction(Bokeh) {\n    }\n  ];\n\n  function run_inline_js() {\n    if (root.Bokeh !== undefined || force === true) {\n      try {\n            for (let i = 0; i < inline_js.length; i++) {\n      inline_js[i].call(root, root.Bokeh);\n    }\n\n      } catch (error) {display_loaded(error);throw error;\n      }if (force === true) {\n        display_loaded();\n      }} else if (Date.now() < root._bokeh_timeout) {\n      setTimeout(run_inline_js, 100);\n    } else if (!root._bokeh_failed_load) {\n      console.log(\"Bokeh: BokehJS failed to load within specified timeout.\");\n      root._bokeh_failed_load = true;\n    } else if (force !== true) {\n      const cell = $(document.getElementById(\"be24a10a-e268-4eb2-b167-f6dcf49bfd7f\")).parents('.cell').data().cell;\n      cell.output_area.append_execute_result(NB_LOAD_WARNING)\n    }\n  }\n\n  if (root._bokeh_is_loading === 0) {\n    console.debug(\"Bokeh: BokehJS loaded, going straight to plotting\");\n    run_inline_js();\n  } else {\n    load_libs(css_urls, js_urls, function() {\n      console.debug(\"Bokeh: BokehJS plotting callback run at\", now());\n      run_inline_js();\n    });\n  }\n}(window));"
     },
     "metadata": {},
     "output_type": "display_data"
    },
    {
     "data": {
      "text/html": [
       "\n",
       "  <div id=\"b359ad77-7e81-4c24-b524-6660f9cdf23e\" data-root-id=\"p1001\" style=\"display: contents;\"></div>\n"
      ]
     },
     "metadata": {},
     "output_type": "display_data"
    },
    {
     "data": {
      "application/javascript": [
       "(function(root) {\n",
       "  function embed_document(root) {\n",
       "  const docs_json = {\"3959edfa-fdb1-4314-b1b4-9ce338f6c18c\":{\"version\":\"3.6.0\",\"title\":\"Bokeh Application\",\"roots\":[{\"type\":\"object\",\"name\":\"Figure\",\"id\":\"p1001\",\"attributes\":{\"width\":400,\"height\":400,\"x_range\":{\"type\":\"object\",\"name\":\"DataRange1d\",\"id\":\"p1002\"},\"y_range\":{\"type\":\"object\",\"name\":\"DataRange1d\",\"id\":\"p1003\"},\"x_scale\":{\"type\":\"object\",\"name\":\"LinearScale\",\"id\":\"p1010\"},\"y_scale\":{\"type\":\"object\",\"name\":\"LinearScale\",\"id\":\"p1011\"},\"title\":{\"type\":\"object\",\"name\":\"Title\",\"id\":\"p1035\",\"attributes\":{\"text\":\"First two principal components\"}},\"renderers\":[{\"type\":\"object\",\"name\":\"GlyphRenderer\",\"id\":\"p1042\",\"attributes\":{\"data_source\":{\"type\":\"object\",\"name\":\"ColumnDataSource\",\"id\":\"p1036\",\"attributes\":{\"selected\":{\"type\":\"object\",\"name\":\"Selection\",\"id\":\"p1037\",\"attributes\":{\"indices\":[],\"line_indices\":[]}},\"selection_policy\":{\"type\":\"object\",\"name\":\"UnionRenderers\",\"id\":\"p1038\"},\"data\":{\"type\":\"map\",\"entries\":[[\"x\",{\"type\":\"ndarray\",\"array\":{\"type\":\"bytes\",\"data\":\"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\"},\"shape\":[444],\"dtype\":\"float64\",\"order\":\"little\"}],[\"y\",{\"type\":\"ndarray\",\"array\":{\"type\":\"bytes\",\"data\":\"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\"},\"shape\":[444],\"dtype\":\"float64\",\"order\":\"little\"}],[\"hatch_color\",[\"navy\",\"navy\",\"navy\",\"navy\",\"navy\",\"navy\",\"navy\",\"navy\",\"navy\",\"navy\",\"navy\",\"navy\",\"navy\",\"navy\",\"navy\",\"navy\",\"navy\",\"navy\",\"navy\",\"navy\",\"navy\",\"navy\",\"navy\",\"navy\",\"navy\",\"navy\",\"navy\",\"navy\",\"navy\",\"navy\",\"navy\",\"navy\",\"navy\",\"navy\",\"navy\",\"navy\",\"navy\",\"navy\",\"navy\",\"navy\",\"navy\",\"navy\",\"navy\",\"navy\",\"navy\",\"navy\",\"navy\",\"navy\",\"navy\",\"navy\",\"navy\",\"navy\",\"navy\",\"navy\",\"navy\",\"navy\",\"navy\",\"navy\",\"navy\",\"navy\",\"navy\",\"navy\",\"navy\",\"navy\",\"navy\",\"navy\",\"navy\",\"navy\",\"navy\",\"navy\",\"navy\",\"navy\",\"navy\",\"yellow\",\"navy\",\"navy\",\"navy\",\"yellow\",\"navy\",\"navy\",\"navy\",\"navy\",\"navy\",\"navy\",\"navy\",\"navy\",\"navy\",\"navy\",\"navy\",\"yellow\",\"navy\",\"navy\",\"navy\",\"navy\",\"navy\",\"navy\",\"navy\",\"navy\",\"navy\",\"yellow\",\"navy\",\"navy\",\"navy\",\"navy\",\"navy\",\"navy\",\"navy\",\"navy\",\"navy\",\"navy\",\"navy\",\"navy\",\"navy\",\"navy\",\"navy\",\"navy\",\"navy\",\"navy\",\"navy\",\"navy\",\"navy\",\"navy\",\"navy\",\"navy\",\"navy\",\"navy\",\"navy\",\"navy\",\"navy\",\"navy\",\"navy\",\"navy\",\"navy\",\"navy\",\"navy\",\"yellow\",\"yellow\",\"navy\",\"navy\",\"navy\",\"navy\",\"navy\",\"navy\",\"navy\",\"navy\",\"navy\",\"navy\",\"navy\",\"navy\",\"navy\",\"navy\",\"navy\",\"navy\",\"navy\",\"navy\",\"navy\",\"navy\",\"navy\",\"navy\",\"navy\",\"navy\",\"yellow\",\"navy\",\"navy\",\"navy\",\"navy\",\"yellow\",\"navy\",\"navy\",\"navy\",\"navy\",\"navy\",\"navy\",\"navy\",\"navy\",\"navy\",\"navy\",\"navy\",\"navy\",\"navy\",\"navy\",\"navy\",\"navy\",\"navy\",\"navy\",\"navy\",\"navy\",\"navy\",\"navy\",\"navy\",\"navy\",\"navy\",\"navy\",\"navy\",\"navy\",\"navy\",\"navy\",\"navy\",\"navy\",\"navy\",\"navy\",\"navy\",\"navy\",\"navy\",\"navy\",\"navy\",\"navy\",\"navy\",\"navy\",\"navy\",\"navy\",\"navy\",\"navy\",\"navy\",\"navy\",\"yellow\",\"navy\",\"navy\",\"navy\",\"navy\",\"navy\",\"navy\",\"navy\",\"navy\",\"navy\",\"yellow\",\"navy\",\"navy\",\"navy\",\"navy\",\"navy\",\"navy\",\"yellow\",\"navy\",\"yellow\",\"navy\",\"navy\",\"navy\",\"navy\",\"navy\",\"navy\",\"navy\",\"navy\",\"navy\",\"navy\",\"navy\",\"navy\",\"navy\",\"navy\",\"navy\",\"navy\",\"navy\",\"navy\",\"navy\",\"navy\",\"navy\",\"navy\",\"navy\",\"navy\",\"navy\",\"navy\",\"navy\",\"navy\",\"navy\",\"navy\",\"navy\",\"navy\",\"navy\",\"navy\",\"navy\",\"navy\",\"navy\",\"navy\",\"navy\",\"navy\",\"navy\",\"navy\",\"navy\",\"navy\",\"navy\",\"navy\",\"navy\",\"navy\",\"navy\",\"navy\",\"navy\",\"navy\",\"navy\",\"navy\",\"navy\",\"navy\",\"navy\",\"navy\",\"navy\",\"navy\",\"navy\",\"navy\",\"navy\",\"navy\",\"navy\",\"navy\",\"navy\",\"navy\",\"navy\",\"navy\",\"navy\",\"navy\",\"navy\",\"navy\",\"navy\",\"navy\",\"navy\",\"navy\",\"navy\",\"navy\",\"navy\",\"navy\",\"navy\",\"navy\",\"navy\",\"navy\",\"navy\",\"navy\",\"navy\",\"navy\",\"navy\",\"navy\",\"navy\",\"navy\",\"navy\",\"navy\",\"navy\",\"navy\",\"navy\",\"navy\",\"navy\",\"navy\",\"navy\",\"navy\",\"navy\",\"navy\",\"navy\",\"navy\",\"navy\",\"navy\",\"navy\",\"navy\",\"navy\",\"navy\",\"navy\",\"navy\",\"navy\",\"navy\",\"navy\",\"navy\",\"navy\",\"navy\",\"navy\",\"navy\",\"navy\",\"navy\",\"navy\",\"navy\",\"navy\",\"navy\",\"navy\",\"navy\",\"navy\",\"navy\",\"navy\",\"navy\",\"navy\",\"navy\",\"navy\",\"navy\",\"navy\",\"navy\",\"navy\",\"navy\",\"navy\",\"navy\",\"navy\",\"navy\",\"navy\",\"navy\",\"navy\",\"navy\",\"navy\",\"navy\",\"navy\",\"navy\",\"navy\",\"navy\",\"navy\",\"navy\",\"navy\",\"navy\",\"navy\",\"navy\",\"navy\",\"navy\",\"navy\",\"navy\",\"navy\",\"navy\",\"navy\",\"navy\",\"navy\",\"navy\",\"navy\",\"navy\",\"navy\",\"navy\",\"navy\",\"navy\",\"navy\",\"navy\",\"navy\",\"navy\",\"navy\",\"navy\",\"navy\",\"navy\",\"navy\",\"navy\",\"navy\",\"navy\",\"navy\",\"navy\",\"navy\",\"navy\",\"navy\",\"navy\",\"navy\",\"navy\",\"yellow\",\"yellow\",\"yellow\",\"yellow\",\"yellow\",\"yellow\",\"yellow\",\"yellow\",\"navy\"]],[\"line_color\",[\"navy\",\"navy\",\"navy\",\"navy\",\"navy\",\"navy\",\"navy\",\"navy\",\"navy\",\"navy\",\"navy\",\"navy\",\"navy\",\"navy\",\"navy\",\"navy\",\"navy\",\"navy\",\"navy\",\"navy\",\"navy\",\"navy\",\"navy\",\"navy\",\"navy\",\"navy\",\"navy\",\"navy\",\"navy\",\"navy\",\"navy\",\"navy\",\"navy\",\"navy\",\"navy\",\"navy\",\"navy\",\"navy\",\"navy\",\"navy\",\"navy\",\"navy\",\"navy\",\"navy\",\"navy\",\"navy\",\"navy\",\"navy\",\"navy\",\"navy\",\"navy\",\"navy\",\"navy\",\"navy\",\"navy\",\"navy\",\"navy\",\"navy\",\"navy\",\"navy\",\"navy\",\"navy\",\"navy\",\"navy\",\"navy\",\"navy\",\"navy\",\"navy\",\"navy\",\"navy\",\"navy\",\"navy\",\"navy\",\"yellow\",\"navy\",\"navy\",\"navy\",\"yellow\",\"navy\",\"navy\",\"navy\",\"navy\",\"navy\",\"navy\",\"navy\",\"navy\",\"navy\",\"navy\",\"navy\",\"yellow\",\"navy\",\"navy\",\"navy\",\"navy\",\"navy\",\"navy\",\"navy\",\"navy\",\"navy\",\"yellow\",\"navy\",\"navy\",\"navy\",\"navy\",\"navy\",\"navy\",\"navy\",\"navy\",\"navy\",\"navy\",\"navy\",\"navy\",\"navy\",\"navy\",\"navy\",\"navy\",\"navy\",\"navy\",\"navy\",\"navy\",\"navy\",\"navy\",\"navy\",\"navy\",\"navy\",\"navy\",\"navy\",\"navy\",\"navy\",\"navy\",\"navy\",\"navy\",\"navy\",\"navy\",\"navy\",\"yellow\",\"yellow\",\"navy\",\"navy\",\"navy\",\"navy\",\"navy\",\"navy\",\"navy\",\"navy\",\"navy\",\"navy\",\"navy\",\"navy\",\"navy\",\"navy\",\"navy\",\"navy\",\"navy\",\"navy\",\"navy\",\"navy\",\"navy\",\"navy\",\"navy\",\"navy\",\"yellow\",\"navy\",\"navy\",\"navy\",\"navy\",\"yellow\",\"navy\",\"navy\",\"navy\",\"navy\",\"navy\",\"navy\",\"navy\",\"navy\",\"navy\",\"navy\",\"navy\",\"navy\",\"navy\",\"navy\",\"navy\",\"navy\",\"navy\",\"navy\",\"navy\",\"navy\",\"navy\",\"navy\",\"navy\",\"navy\",\"navy\",\"navy\",\"navy\",\"navy\",\"navy\",\"navy\",\"navy\",\"navy\",\"navy\",\"navy\",\"navy\",\"navy\",\"navy\",\"navy\",\"navy\",\"navy\",\"navy\",\"navy\",\"navy\",\"navy\",\"navy\",\"navy\",\"navy\",\"navy\",\"yellow\",\"navy\",\"navy\",\"navy\",\"navy\",\"navy\",\"navy\",\"navy\",\"navy\",\"navy\",\"yellow\",\"navy\",\"navy\",\"navy\",\"navy\",\"navy\",\"navy\",\"yellow\",\"navy\",\"yellow\",\"navy\",\"navy\",\"navy\",\"navy\",\"navy\",\"navy\",\"navy\",\"navy\",\"navy\",\"navy\",\"navy\",\"navy\",\"navy\",\"navy\",\"navy\",\"navy\",\"navy\",\"navy\",\"navy\",\"navy\",\"navy\",\"navy\",\"navy\",\"navy\",\"navy\",\"navy\",\"navy\",\"navy\",\"navy\",\"navy\",\"navy\",\"navy\",\"navy\",\"navy\",\"navy\",\"navy\",\"navy\",\"navy\",\"navy\",\"navy\",\"navy\",\"navy\",\"navy\",\"navy\",\"navy\",\"navy\",\"navy\",\"navy\",\"navy\",\"navy\",\"navy\",\"navy\",\"navy\",\"navy\",\"navy\",\"navy\",\"navy\",\"navy\",\"navy\",\"navy\",\"navy\",\"navy\",\"navy\",\"navy\",\"navy\",\"navy\",\"navy\",\"navy\",\"navy\",\"navy\",\"navy\",\"navy\",\"navy\",\"navy\",\"navy\",\"navy\",\"navy\",\"navy\",\"navy\",\"navy\",\"navy\",\"navy\",\"navy\",\"navy\",\"navy\",\"navy\",\"navy\",\"navy\",\"navy\",\"navy\",\"navy\",\"navy\",\"navy\",\"navy\",\"navy\",\"navy\",\"navy\",\"navy\",\"navy\",\"navy\",\"navy\",\"navy\",\"navy\",\"navy\",\"navy\",\"navy\",\"navy\",\"navy\",\"navy\",\"navy\",\"navy\",\"navy\",\"navy\",\"navy\",\"navy\",\"navy\",\"navy\",\"navy\",\"navy\",\"navy\",\"navy\",\"navy\",\"navy\",\"navy\",\"navy\",\"navy\",\"navy\",\"navy\",\"navy\",\"navy\",\"navy\",\"navy\",\"navy\",\"navy\",\"navy\",\"navy\",\"navy\",\"navy\",\"navy\",\"navy\",\"navy\",\"navy\",\"navy\",\"navy\",\"navy\",\"navy\",\"navy\",\"navy\",\"navy\",\"navy\",\"navy\",\"navy\",\"navy\",\"navy\",\"navy\",\"navy\",\"navy\",\"navy\",\"navy\",\"navy\",\"navy\",\"navy\",\"navy\",\"navy\",\"navy\",\"navy\",\"navy\",\"navy\",\"navy\",\"navy\",\"navy\",\"navy\",\"navy\",\"navy\",\"navy\",\"navy\",\"navy\",\"navy\",\"navy\",\"navy\",\"navy\",\"navy\",\"navy\",\"navy\",\"navy\",\"navy\",\"navy\",\"navy\",\"navy\",\"navy\",\"navy\",\"navy\",\"navy\",\"navy\",\"navy\",\"navy\",\"navy\",\"navy\",\"navy\",\"navy\",\"yellow\",\"yellow\",\"yellow\",\"yellow\",\"yellow\",\"yellow\",\"yellow\",\"yellow\",\"navy\"]],[\"fill_color\",[\"navy\",\"navy\",\"navy\",\"navy\",\"navy\",\"navy\",\"navy\",\"navy\",\"navy\",\"navy\",\"navy\",\"navy\",\"navy\",\"navy\",\"navy\",\"navy\",\"navy\",\"navy\",\"navy\",\"navy\",\"navy\",\"navy\",\"navy\",\"navy\",\"navy\",\"navy\",\"navy\",\"navy\",\"navy\",\"navy\",\"navy\",\"navy\",\"navy\",\"navy\",\"navy\",\"navy\",\"navy\",\"navy\",\"navy\",\"navy\",\"navy\",\"navy\",\"navy\",\"navy\",\"navy\",\"navy\",\"navy\",\"navy\",\"navy\",\"navy\",\"navy\",\"navy\",\"navy\",\"navy\",\"navy\",\"navy\",\"navy\",\"navy\",\"navy\",\"navy\",\"navy\",\"navy\",\"navy\",\"navy\",\"navy\",\"navy\",\"navy\",\"navy\",\"navy\",\"navy\",\"navy\",\"navy\",\"navy\",\"yellow\",\"navy\",\"navy\",\"navy\",\"yellow\",\"navy\",\"navy\",\"navy\",\"navy\",\"navy\",\"navy\",\"navy\",\"navy\",\"navy\",\"navy\",\"navy\",\"yellow\",\"navy\",\"navy\",\"navy\",\"navy\",\"navy\",\"navy\",\"navy\",\"navy\",\"navy\",\"yellow\",\"navy\",\"navy\",\"navy\",\"navy\",\"navy\",\"navy\",\"navy\",\"navy\",\"navy\",\"navy\",\"navy\",\"navy\",\"navy\",\"navy\",\"navy\",\"navy\",\"navy\",\"navy\",\"navy\",\"navy\",\"navy\",\"navy\",\"navy\",\"navy\",\"navy\",\"navy\",\"navy\",\"navy\",\"navy\",\"navy\",\"navy\",\"navy\",\"navy\",\"navy\",\"navy\",\"yellow\",\"yellow\",\"navy\",\"navy\",\"navy\",\"navy\",\"navy\",\"navy\",\"navy\",\"navy\",\"navy\",\"navy\",\"navy\",\"navy\",\"navy\",\"navy\",\"navy\",\"navy\",\"navy\",\"navy\",\"navy\",\"navy\",\"navy\",\"navy\",\"navy\",\"navy\",\"yellow\",\"navy\",\"navy\",\"navy\",\"navy\",\"yellow\",\"navy\",\"navy\",\"navy\",\"navy\",\"navy\",\"navy\",\"navy\",\"navy\",\"navy\",\"navy\",\"navy\",\"navy\",\"navy\",\"navy\",\"navy\",\"navy\",\"navy\",\"navy\",\"navy\",\"navy\",\"navy\",\"navy\",\"navy\",\"navy\",\"navy\",\"navy\",\"navy\",\"navy\",\"navy\",\"navy\",\"navy\",\"navy\",\"navy\",\"navy\",\"navy\",\"navy\",\"navy\",\"navy\",\"navy\",\"navy\",\"navy\",\"navy\",\"navy\",\"navy\",\"navy\",\"navy\",\"navy\",\"navy\",\"yellow\",\"navy\",\"navy\",\"navy\",\"navy\",\"navy\",\"navy\",\"navy\",\"navy\",\"navy\",\"yellow\",\"navy\",\"navy\",\"navy\",\"navy\",\"navy\",\"navy\",\"yellow\",\"navy\",\"yellow\",\"navy\",\"navy\",\"navy\",\"navy\",\"navy\",\"navy\",\"navy\",\"navy\",\"navy\",\"navy\",\"navy\",\"navy\",\"navy\",\"navy\",\"navy\",\"navy\",\"navy\",\"navy\",\"navy\",\"navy\",\"navy\",\"navy\",\"navy\",\"navy\",\"navy\",\"navy\",\"navy\",\"navy\",\"navy\",\"navy\",\"navy\",\"navy\",\"navy\",\"navy\",\"navy\",\"navy\",\"navy\",\"navy\",\"navy\",\"navy\",\"navy\",\"navy\",\"navy\",\"navy\",\"navy\",\"navy\",\"navy\",\"navy\",\"navy\",\"navy\",\"navy\",\"navy\",\"navy\",\"navy\",\"navy\",\"navy\",\"navy\",\"navy\",\"navy\",\"navy\",\"navy\",\"navy\",\"navy\",\"navy\",\"navy\",\"navy\",\"navy\",\"navy\",\"navy\",\"navy\",\"navy\",\"navy\",\"navy\",\"navy\",\"navy\",\"navy\",\"navy\",\"navy\",\"navy\",\"navy\",\"navy\",\"navy\",\"navy\",\"navy\",\"navy\",\"navy\",\"navy\",\"navy\",\"navy\",\"navy\",\"navy\",\"navy\",\"navy\",\"navy\",\"navy\",\"navy\",\"navy\",\"navy\",\"navy\",\"navy\",\"navy\",\"navy\",\"navy\",\"navy\",\"navy\",\"navy\",\"navy\",\"navy\",\"navy\",\"navy\",\"navy\",\"navy\",\"navy\",\"navy\",\"navy\",\"navy\",\"navy\",\"navy\",\"navy\",\"navy\",\"navy\",\"navy\",\"navy\",\"navy\",\"navy\",\"navy\",\"navy\",\"navy\",\"navy\",\"navy\",\"navy\",\"navy\",\"navy\",\"navy\",\"navy\",\"navy\",\"navy\",\"navy\",\"navy\",\"navy\",\"navy\",\"navy\",\"navy\",\"navy\",\"navy\",\"navy\",\"navy\",\"navy\",\"navy\",\"navy\",\"navy\",\"navy\",\"navy\",\"navy\",\"navy\",\"navy\",\"navy\",\"navy\",\"navy\",\"navy\",\"navy\",\"navy\",\"navy\",\"navy\",\"navy\",\"navy\",\"navy\",\"navy\",\"navy\",\"navy\",\"navy\",\"navy\",\"navy\",\"navy\",\"navy\",\"navy\",\"navy\",\"navy\",\"navy\",\"navy\",\"navy\",\"navy\",\"navy\",\"navy\",\"navy\",\"navy\",\"navy\",\"navy\",\"navy\",\"navy\",\"navy\",\"navy\",\"navy\",\"navy\",\"navy\",\"navy\",\"navy\",\"navy\",\"navy\",\"navy\",\"yellow\",\"yellow\",\"yellow\",\"yellow\",\"yellow\",\"yellow\",\"yellow\",\"yellow\",\"navy\"]]]}}},\"view\":{\"type\":\"object\",\"name\":\"CDSView\",\"id\":\"p1043\",\"attributes\":{\"filter\":{\"type\":\"object\",\"name\":\"AllIndices\",\"id\":\"p1044\"}}},\"glyph\":{\"type\":\"object\",\"name\":\"Scatter\",\"id\":\"p1039\",\"attributes\":{\"x\":{\"type\":\"field\",\"field\":\"x\"},\"y\":{\"type\":\"field\",\"field\":\"y\"},\"size\":{\"type\":\"value\",\"value\":20},\"line_color\":{\"type\":\"field\",\"field\":\"line_color\"},\"line_alpha\":{\"type\":\"value\",\"value\":0.3},\"fill_color\":{\"type\":\"field\",\"field\":\"fill_color\"},\"fill_alpha\":{\"type\":\"value\",\"value\":0.3},\"hatch_color\":{\"type\":\"field\",\"field\":\"hatch_color\"},\"hatch_alpha\":{\"type\":\"value\",\"value\":0.3}}},\"nonselection_glyph\":{\"type\":\"object\",\"name\":\"Scatter\",\"id\":\"p1040\",\"attributes\":{\"x\":{\"type\":\"field\",\"field\":\"x\"},\"y\":{\"type\":\"field\",\"field\":\"y\"},\"size\":{\"type\":\"value\",\"value\":20},\"line_color\":{\"type\":\"field\",\"field\":\"line_color\"},\"line_alpha\":{\"type\":\"value\",\"value\":0.1},\"fill_color\":{\"type\":\"field\",\"field\":\"fill_color\"},\"fill_alpha\":{\"type\":\"value\",\"value\":0.1},\"hatch_color\":{\"type\":\"field\",\"field\":\"hatch_color\"},\"hatch_alpha\":{\"type\":\"value\",\"value\":0.1}}},\"muted_glyph\":{\"type\":\"object\",\"name\":\"Scatter\",\"id\":\"p1041\",\"attributes\":{\"x\":{\"type\":\"field\",\"field\":\"x\"},\"y\":{\"type\":\"field\",\"field\":\"y\"},\"size\":{\"type\":\"value\",\"value\":20},\"line_color\":{\"type\":\"field\",\"field\":\"line_color\"},\"line_alpha\":{\"type\":\"value\",\"value\":0.2},\"fill_color\":{\"type\":\"field\",\"field\":\"fill_color\"},\"fill_alpha\":{\"type\":\"value\",\"value\":0.2},\"hatch_color\":{\"type\":\"field\",\"field\":\"hatch_color\"},\"hatch_alpha\":{\"type\":\"value\",\"value\":0.2}}}}}],\"toolbar\":{\"type\":\"object\",\"name\":\"Toolbar\",\"id\":\"p1009\",\"attributes\":{\"tools\":[{\"type\":\"object\",\"name\":\"PanTool\",\"id\":\"p1022\"},{\"type\":\"object\",\"name\":\"WheelZoomTool\",\"id\":\"p1023\",\"attributes\":{\"renderers\":\"auto\"}},{\"type\":\"object\",\"name\":\"BoxZoomTool\",\"id\":\"p1024\",\"attributes\":{\"overlay\":{\"type\":\"object\",\"name\":\"BoxAnnotation\",\"id\":\"p1025\",\"attributes\":{\"syncable\":false,\"line_color\":\"black\",\"line_alpha\":1.0,\"line_width\":2,\"line_dash\":[4,4],\"fill_color\":\"lightgrey\",\"fill_alpha\":0.5,\"level\":\"overlay\",\"visible\":false,\"left\":{\"type\":\"number\",\"value\":\"nan\"},\"right\":{\"type\":\"number\",\"value\":\"nan\"},\"top\":{\"type\":\"number\",\"value\":\"nan\"},\"bottom\":{\"type\":\"number\",\"value\":\"nan\"},\"left_units\":\"canvas\",\"right_units\":\"canvas\",\"top_units\":\"canvas\",\"bottom_units\":\"canvas\",\"handles\":{\"type\":\"object\",\"name\":\"BoxInteractionHandles\",\"id\":\"p1031\",\"attributes\":{\"all\":{\"type\":\"object\",\"name\":\"AreaVisuals\",\"id\":\"p1030\",\"attributes\":{\"fill_color\":\"white\",\"hover_fill_color\":\"lightgray\"}}}}}}}},{\"type\":\"object\",\"name\":\"SaveTool\",\"id\":\"p1032\"},{\"type\":\"object\",\"name\":\"ResetTool\",\"id\":\"p1033\"},{\"type\":\"object\",\"name\":\"HelpTool\",\"id\":\"p1034\"}]}},\"left\":[{\"type\":\"object\",\"name\":\"LinearAxis\",\"id\":\"p1017\",\"attributes\":{\"ticker\":{\"type\":\"object\",\"name\":\"BasicTicker\",\"id\":\"p1018\",\"attributes\":{\"mantissas\":[1,2,5]}},\"formatter\":{\"type\":\"object\",\"name\":\"BasicTickFormatter\",\"id\":\"p1019\"},\"axis_label\":\"Second Principal Component\",\"major_label_policy\":{\"type\":\"object\",\"name\":\"AllLabels\",\"id\":\"p1020\"}}}],\"below\":[{\"type\":\"object\",\"name\":\"LinearAxis\",\"id\":\"p1012\",\"attributes\":{\"ticker\":{\"type\":\"object\",\"name\":\"BasicTicker\",\"id\":\"p1013\",\"attributes\":{\"mantissas\":[1,2,5]}},\"formatter\":{\"type\":\"object\",\"name\":\"BasicTickFormatter\",\"id\":\"p1014\"},\"axis_label\":\"First Principal Component\",\"major_label_policy\":{\"type\":\"object\",\"name\":\"AllLabels\",\"id\":\"p1015\"}}}],\"center\":[{\"type\":\"object\",\"name\":\"Grid\",\"id\":\"p1016\",\"attributes\":{\"axis\":{\"id\":\"p1012\"}}},{\"type\":\"object\",\"name\":\"Grid\",\"id\":\"p1021\",\"attributes\":{\"dimension\":1,\"axis\":{\"id\":\"p1017\"}}}]}}]}};\n",
       "  const render_items = [{\"docid\":\"3959edfa-fdb1-4314-b1b4-9ce338f6c18c\",\"roots\":{\"p1001\":\"b359ad77-7e81-4c24-b524-6660f9cdf23e\"},\"root_ids\":[\"p1001\"]}];\n",
       "  void root.Bokeh.embed.embed_items_notebook(docs_json, render_items);\n",
       "  }\n",
       "  if (root.Bokeh !== undefined) {\n",
       "    embed_document(root);\n",
       "  } else {\n",
       "    let attempts = 0;\n",
       "    const timer = setInterval(function(root) {\n",
       "      if (root.Bokeh !== undefined) {\n",
       "        clearInterval(timer);\n",
       "        embed_document(root);\n",
       "      } else {\n",
       "        attempts++;\n",
       "        if (attempts > 100) {\n",
       "          clearInterval(timer);\n",
       "          console.log(\"Bokeh: ERROR: Unable to run BokehJS code because BokehJS library is missing\");\n",
       "        }\n",
       "      }\n",
       "    }, 10, root)\n",
       "  }\n",
       "})(window);"
      ],
      "application/vnd.bokehjs_exec.v0+json": ""
     },
     "metadata": {
      "application/vnd.bokehjs_exec.v0+json": {
       "id": "p1001"
      }
     },
     "output_type": "display_data"
    }
   ],
   "source": [
    "from bokeh.plotting import figure, show\n",
    "from bokeh.io import output_notebook # enables plot interface in J notebook\n",
    "output_notebook()\n",
    "\n",
    "p = figure(width=400, height=400)\n",
    "p.title = \"First two principal components\"\n",
    "p.xaxis.axis_label = \"First Principal Component\"\n",
    "p.yaxis.axis_label = \"Second Principal Component\"\n",
    "# add a scatter circle renderer with a size, color, and alpha\n",
    "p.scatter(components[:,0], components[:,1], size=20, color=[\"yellow\" if i  else \"navy\" for i in df[\"Cancer\"]], alpha=0.3)\n",
    "# show the results\n",
    "show(p)\n"
   ]
  },
  {
   "cell_type": "code",
   "execution_count": null,
   "id": "46a09873-2655-47eb-8d2c-7a8ea514e109",
   "metadata": {},
   "outputs": [],
   "source": []
  }
 ],
 "metadata": {
  "kernelspec": {
   "display_name": "Python 3 (ipykernel)",
   "language": "python",
   "name": "python3"
  },
  "language_info": {
   "codemirror_mode": {
    "name": "ipython",
    "version": 3
   },
   "file_extension": ".py",
   "mimetype": "text/x-python",
   "name": "python",
   "nbconvert_exporter": "python",
   "pygments_lexer": "ipython3",
   "version": "3.12.7"
  }
 },
 "nbformat": 4,
 "nbformat_minor": 5
}

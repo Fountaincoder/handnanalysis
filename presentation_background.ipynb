{
 "cells": [
  {
   "cell_type": "markdown",
   "id": "688c9c62-d9b0-4921-b872-9fb2f18d81a1",
   "metadata": {},
   "source": [
    "# Head and Neck Cancer Data Analysis\n",
    "Jonny Edwards and Jim Moor\n",
    "\n",
    "this notebook contains all the analysis performed on the Head and Neck cancer diagnosis data"
   ]
  },
  {
   "cell_type": "code",
   "execution_count": 71,
   "id": "fdd474e1-0eff-41d2-a121-b31f7384a1ee",
   "metadata": {},
   "outputs": [
    {
     "data": {
      "text/plain": [
       "<polars.config.Config at 0x7fc909af74d0>"
      ]
     },
     "execution_count": 71,
     "metadata": {},
     "output_type": "execute_result"
    }
   ],
   "source": [
    "import polars as pl\n",
    "pl.Config(tbl_rows=-1)"
   ]
  },
  {
   "cell_type": "markdown",
   "id": "7d2e5bf9-17fa-4b31-adb1-d6725b816183",
   "metadata": {},
   "source": [
    "### 1. Read in the data and provide summary statistics\n",
    "\n",
    "Let's get all the data scoped for analysis - the following breaks the data into symptoms, metadata and final diagnosis."
   ]
  },
  {
   "cell_type": "code",
   "execution_count": 153,
   "id": "5595cae4-0efe-4da8-819e-82a57751b45b",
   "metadata": {},
   "outputs": [],
   "source": [
    "df = pl.read_csv(\"../../jim3.csv\")"
   ]
  },
  {
   "cell_type": "code",
   "execution_count": 115,
   "id": "a832a6d7-8fad-4bb6-aeed-8d98924b5ef0",
   "metadata": {},
   "outputs": [],
   "source": [
    "df_meta = df[[\"Age\",\"Ht\",\"Weight\", \"BMI\", 'TotalNoSymptoms']]"
   ]
  },
  {
   "cell_type": "code",
   "execution_count": 116,
   "id": "08b5d202-c0fc-472b-88b8-2a5900903e6c",
   "metadata": {},
   "outputs": [],
   "source": [
    "df_diagnosis = df[[\"Diagnostic group\"]]"
   ]
  },
  {
   "cell_type": "code",
   "execution_count": 117,
   "id": "5f243dd4-8029-48ca-aba5-ece104d33f63",
   "metadata": {},
   "outputs": [],
   "source": [
    "df_symptoms = df[['HoarseVoice', 'DiffSwal', 'PainSwal', 'Otalgia', 'UnilatNO', 'NeckLump', 'ThroatLump', 'FOSIT', 'SoreThroat']]"
   ]
  },
  {
   "cell_type": "markdown",
   "id": "ee77676a-ee38-499f-a9d5-f76628db58b3",
   "metadata": {},
   "source": [
    "## 1a. Summary Statistics for symptoms"
   ]
  },
  {
   "cell_type": "code",
   "execution_count": 118,
   "id": "1c307474-9867-41f2-bd12-a769a40f7b84",
   "metadata": {},
   "outputs": [],
   "source": [
    "symptom_summary = df_symptoms.unpivot().group_by(pl.all()).len()"
   ]
  },
  {
   "cell_type": "code",
   "execution_count": 119,
   "id": "a1c14023-0770-4ad2-97fb-f168849c012a",
   "metadata": {},
   "outputs": [
    {
     "name": "stdout",
     "output_type": "stream",
     "text": [
      "shape: (27, 3)\n",
      "┌─────────────┬───────┬─────┐\n",
      "│ variable    ┆ value ┆ len │\n",
      "│ ---         ┆ ---   ┆ --- │\n",
      "│ str         ┆ i64   ┆ u32 │\n",
      "╞═════════════╪═══════╪═════╡\n",
      "│ DiffSwal    ┆ null  ┆ 1   │\n",
      "│ DiffSwal    ┆ 0     ┆ 185 │\n",
      "│ DiffSwal    ┆ 1     ┆ 86  │\n",
      "│ FOSIT       ┆ null  ┆ 2   │\n",
      "│ FOSIT       ┆ 0     ┆ 148 │\n",
      "│ FOSIT       ┆ 1     ┆ 122 │\n",
      "│ HoarseVoice ┆ null  ┆ 1   │\n",
      "│ HoarseVoice ┆ 0     ┆ 158 │\n",
      "│ HoarseVoice ┆ 1     ┆ 113 │\n",
      "│ NeckLump    ┆ null  ┆ 1   │\n",
      "│ NeckLump    ┆ 0     ┆ 188 │\n",
      "│ NeckLump    ┆ 1     ┆ 83  │\n",
      "│ Otalgia     ┆ null  ┆ 2   │\n",
      "│ Otalgia     ┆ 0     ┆ 229 │\n",
      "│ Otalgia     ┆ 1     ┆ 41  │\n",
      "│ PainSwal    ┆ null  ┆ 1   │\n",
      "│ PainSwal    ┆ 0     ┆ 214 │\n",
      "│ PainSwal    ┆ 1     ┆ 57  │\n",
      "│ SoreThroat  ┆ null  ┆ 1   │\n",
      "│ SoreThroat  ┆ 0     ┆ 181 │\n",
      "│ SoreThroat  ┆ 1     ┆ 90  │\n",
      "│ ThroatLump  ┆ null  ┆ 1   │\n",
      "│ ThroatLump  ┆ 0     ┆ 219 │\n",
      "│ ThroatLump  ┆ 1     ┆ 52  │\n",
      "│ UnilatNO    ┆ null  ┆ 1   │\n",
      "│ UnilatNO    ┆ 0     ┆ 231 │\n",
      "│ UnilatNO    ┆ 1     ┆ 40  │\n",
      "└─────────────┴───────┴─────┘\n"
     ]
    }
   ],
   "source": [
    "print(symptom_summary.sort([\"variable\",\"value\"]))"
   ]
  },
  {
   "cell_type": "markdown",
   "id": "2399f5b3-ba06-487e-ab9c-607a3156e4b4",
   "metadata": {},
   "source": [
    "## 1b. Summary of the metadata statistics"
   ]
  },
  {
   "cell_type": "code",
   "execution_count": 121,
   "id": "8670589d-6ffd-43eb-b504-315d7d31ba10",
   "metadata": {},
   "outputs": [
    {
     "name": "stdout",
     "output_type": "stream",
     "text": [
      "shape: (9, 6)\n",
      "┌────────────┬───────────┬──────────┬───────────┬───────────┬─────────────────┐\n",
      "│ statistic  ┆ Age       ┆ Ht       ┆ Weight    ┆ BMI       ┆ TotalNoSymptoms │\n",
      "│ ---        ┆ ---       ┆ ---      ┆ ---       ┆ ---       ┆ ---             │\n",
      "│ str        ┆ f64       ┆ f64      ┆ f64       ┆ f64       ┆ f64             │\n",
      "╞════════════╪═══════════╪══════════╪═══════════╪═══════════╪═════════════════╡\n",
      "│ count      ┆ 271.0     ┆ 271.0    ┆ 271.0     ┆ 271.0     ┆ 272.0           │\n",
      "│ null_count ┆ 1.0       ┆ 1.0      ┆ 1.0       ┆ 1.0       ┆ 0.0             │\n",
      "│ mean       ┆ 53.749739 ┆ 1.66903  ┆ 78.612731 ┆ 28.162249 ┆ 2.514706        │\n",
      "│ std        ┆ 17.539717 ┆ 0.102715 ┆ 18.971041 ┆ 6.200982  ┆ 1.683369        │\n",
      "│ min        ┆ 9.130732  ┆ 1.41     ┆ 28.95     ┆ 14.561642 ┆ 0.0             │\n",
      "│ 25%        ┆ 41.64271  ┆ 1.59     ┆ 65.4      ┆ 23.620288 ┆ 1.0             │\n",
      "│ 50%        ┆ 53.36345  ┆ 1.66     ┆ 74.55     ┆ 27.155556 ┆ 2.0             │\n",
      "│ 75%        ┆ 66.992471 ┆ 1.74     ┆ 90.0      ┆ 31.555556 ┆ 3.0             │\n",
      "│ max        ┆ 90.699521 ┆ 1.96     ┆ 140.1     ┆ 54.048841 ┆ 8.0             │\n",
      "└────────────┴───────────┴──────────┴───────────┴───────────┴─────────────────┘\n"
     ]
    }
   ],
   "source": [
    "print(df_meta.describe())"
   ]
  },
  {
   "cell_type": "markdown",
   "id": "d547d103-9060-46c9-8bd6-38ea62c54d26",
   "metadata": {},
   "source": [
    "## 1c. Summary of the diagnosis data"
   ]
  },
  {
   "cell_type": "code",
   "execution_count": 93,
   "id": "7a45bb4e-9eb1-45c1-88d5-c232c718f72e",
   "metadata": {},
   "outputs": [
    {
     "name": "stdout",
     "output_type": "stream",
     "text": [
      "shape: (6, 3)\n",
      "┌──────────────────┬─────────────────────────────────┬─────┐\n",
      "│ variable         ┆ value                           ┆ len │\n",
      "│ ---              ┆ ---                             ┆ --- │\n",
      "│ str              ┆ str                             ┆ u32 │\n",
      "╞══════════════════╪═════════════════════════════════╪═════╡\n",
      "│ Diagnostic group ┆ ?                               ┆ 1   │\n",
      "│ Diagnostic group ┆ Cancer                          ┆ 12  │\n",
      "│ Diagnostic group ┆ RIP                             ┆ 1   │\n",
      "│ Diagnostic group ┆ Not confirmed                   ┆ 1   │\n",
      "│ Diagnostic group ┆ Non-cancer                      ┆ 256 │\n",
      "│ Diagnostic group ┆ Cancer (diagnosed prior to 2ww… ┆ 1   │\n",
      "└──────────────────┴─────────────────────────────────┴─────┘\n",
      "shape: (2, 3)\n",
      "┌──────────────────┬───────┬─────┐\n",
      "│ variable         ┆ value ┆ len │\n",
      "│ ---              ┆ ---   ┆ --- │\n",
      "│ str              ┆ bool  ┆ u32 │\n",
      "╞══════════════════╪═══════╪═════╡\n",
      "│ Diagnostic group ┆ false ┆ 260 │\n",
      "│ Diagnostic group ┆ true  ┆ 12  │\n",
      "└──────────────────┴───────┴─────┘\n"
     ]
    }
   ],
   "source": [
    "print(df_diagnosis.unpivot().group_by(pl.all()).len())\n",
    "df_diagnosis_updated = df_diagnosis==\"Cancer\"\n",
    "print(df_diagnosis_updated.unpivot().group_by(pl.all()).len())"
   ]
  },
  {
   "cell_type": "markdown",
   "id": "245623a3-ef0f-416c-920a-415826f18933",
   "metadata": {},
   "source": [
    "## 2. Avg statistics per diagnostic group"
   ]
  },
  {
   "cell_type": "code",
   "execution_count": 151,
   "id": "bc891f76-c3cd-416e-a3f3-5f689db008f5",
   "metadata": {},
   "outputs": [],
   "source": [
    "df = df.with_columns(\n",
    "    Cancer = (df[\"Diagnostic group\"]==\"Cancer\")\n",
    ")"
   ]
  },
  {
   "cell_type": "code",
   "execution_count": 113,
   "id": "af4c0f34-da26-4d6f-8bd1-0889186826bd",
   "metadata": {},
   "outputs": [
    {
     "name": "stdout",
     "output_type": "stream",
     "text": [
      "shape: (2, 3)\n",
      "┌────────┬───────────┬───────────┐\n",
      "│ Cancer ┆ Means     ┆ Stds      │\n",
      "│ ---    ┆ ---       ┆ ---       │\n",
      "│ bool   ┆ f64       ┆ f64       │\n",
      "╞════════╪═══════════╪═══════════╡\n",
      "│ true   ┆ 55.011864 ┆ 18.841348 │\n",
      "│ false  ┆ 53.691262 ┆ 17.513925 │\n",
      "└────────┴───────────┴───────────┘\n"
     ]
    }
   ],
   "source": [
    "print(df.group_by(\"Cancer\").agg(pl.col(\"Age\").mean().alias(\"Means\"),pl.col(\"Age\").std().alias(\"Stds\")))"
   ]
  },
  {
   "cell_type": "code",
   "execution_count": 126,
   "id": "4ee9b9b8-e5fe-4385-b060-5f2e311f6c17",
   "metadata": {},
   "outputs": [
    {
     "name": "stdout",
     "output_type": "stream",
     "text": [
      "shape: (2, 3)\n",
      "┌────────┬───────────┬──────────┐\n",
      "│ Cancer ┆ Means     ┆ Stds     │\n",
      "│ ---    ┆ ---       ┆ ---      │\n",
      "│ bool   ┆ f64       ┆ f64      │\n",
      "╞════════╪═══════════╪══════════╡\n",
      "│ true   ┆ 26.355514 ┆ 4.064065 │\n",
      "│ false  ┆ 28.245959 ┆ 6.275156 │\n",
      "└────────┴───────────┴──────────┘\n"
     ]
    }
   ],
   "source": [
    "print(df.group_by(\"Cancer\").agg(pl.col(\"BMI\").mean().alias(\"Means\"),pl.col(\"BMI\").std().alias(\"Stds\")))"
   ]
  },
  {
   "cell_type": "code",
   "execution_count": 141,
   "id": "0de0365c-6e0b-456b-8cba-7c4b36be7fb8",
   "metadata": {},
   "outputs": [],
   "source": [
    "import pandas as pd\n",
    "import numpy as np\n",
    "from sklearn.decomposition import PCA\n",
    "\n",
    "pca_x = df_meta.fill_null(0).to_numpy()\n",
    "#o = np.isnan(pca_x)\n",
    "#pca_x = pca_x[o] = 0\n",
    "pca = PCA(n_components=5)\n",
    "pca.fit(pca_x)\n",
    "components = pca.fit_transform(pca_x)\n",
    "var_values = pca.explained_variance_ratio_"
   ]
  },
  {
   "cell_type": "code",
   "execution_count": 150,
   "id": "a571c69f-0e07-42d8-8f33-2cf05a71e447",
   "metadata": {},
   "outputs": [
    {
     "data": {
      "text/html": [
       "    <style>\n",
       "        .bk-notebook-logo {\n",
       "            display: block;\n",
       "            width: 20px;\n",
       "            height: 20px;\n",
       "            background-image: url(data:image/png;base64,iVBORw0KGgoAAAANSUhEUgAAABQAAAAUCAYAAACNiR0NAAAABHNCSVQICAgIfAhkiAAAAAlwSFlzAAALEgAACxIB0t1+/AAAABx0RVh0U29mdHdhcmUAQWRvYmUgRmlyZXdvcmtzIENTNui8sowAAAOkSURBVDiNjZRtaJVlGMd/1/08zzln5zjP1LWcU9N0NkN8m2CYjpgQYQXqSs0I84OLIC0hkEKoPtiH3gmKoiJDU7QpLgoLjLIQCpEsNJ1vqUOdO7ppbuec5+V+rj4ctwzd8IIbbi6u+8f1539dt3A78eXC7QizUF7gyV1fD1Yqg4JWz84yffhm0qkFqBogB9rM8tZdtwVsPUhWhGcFJngGeWrPzHm5oaMmkfEg1usvLFyc8jLRqDOMru7AyC8saQr7GG7f5fvDeH7Ej8CM66nIF+8yngt6HWaKh7k49Soy9nXurCi1o3qUbS3zWfrYeQDTB/Qj6kX6Ybhw4B+bOYoLKCC9H3Nu/leUTZ1JdRWkkn2ldcCamzrcf47KKXdAJllSlxAOkRgyHsGC/zRday5Qld9DyoM4/q/rUoy/CXh3jzOu3bHUVZeU+DEn8FInkPBFlu3+nW3Nw0mk6vCDiWg8CeJaxEwuHS3+z5RgY+YBR6V1Z1nxSOfoaPa4LASWxxdNp+VWTk7+4vzaou8v8PN+xo+KY2xsw6une2frhw05CTYOmQvsEhjhWjn0bmXPjpE1+kplmmkP3suftwTubK9Vq22qKmrBhpY4jvd5afdRA3wGjFAgcnTK2s4hY0/GPNIb0nErGMCRxWOOX64Z8RAC4oCXdklmEvcL8o0BfkNK4lUg9HTl+oPlQxdNo3Mg4Nv175e/1LDGzZen30MEjRUtmXSfiTVu1kK8W4txyV6BMKlbgk3lMwYCiusNy9fVfvvwMxv8Ynl6vxoByANLTWplvuj/nF9m2+PDtt1eiHPBr1oIfhCChQMBw6Aw0UulqTKZdfVvfG7VcfIqLG9bcldL/+pdWTLxLUy8Qq38heUIjh4XlzZxzQm19lLFlr8vdQ97rjZVOLf8nclzckbcD4wxXMidpX30sFd37Fv/GtwwhzhxGVAprjbg0gCAEeIgwCZyTV2Z1REEW8O4py0wsjeloKoMr6iCY6dP92H6Vw/oTyICIthibxjm/DfN9lVz8IqtqKYLUXfoKVMVQVVJOElGjrnnUt9T9wbgp8AyYKaGlqingHZU/uG2NTZSVqwHQTWkx9hxjkpWDaCg6Ckj5qebgBVbT3V3NNXMSiWSDdGV3hrtzla7J+duwPOToIg42ChPQOQjspnSlp1V+Gjdged7+8UN5CRAV7a5EdFNwCjEaBR27b3W890TE7g24NAP/mMDXRWrGoFPQI9ls/MWO2dWFAar/xcOIImbbpA3zgAAAABJRU5ErkJggg==);\n",
       "        }\n",
       "    </style>\n",
       "    <div>\n",
       "        <a href=\"https://bokeh.org\" target=\"_blank\" class=\"bk-notebook-logo\"></a>\n",
       "        <span id=\"b6999367-c3de-414e-b8a1-9792a151de12\">Loading BokehJS ...</span>\n",
       "    </div>\n"
      ]
     },
     "metadata": {},
     "output_type": "display_data"
    },
    {
     "data": {
      "application/javascript": [
       "'use strict';\n",
       "(function(root) {\n",
       "  function now() {\n",
       "    return new Date();\n",
       "  }\n",
       "\n",
       "  const force = true;\n",
       "\n",
       "  if (typeof root._bokeh_onload_callbacks === \"undefined\" || force === true) {\n",
       "    root._bokeh_onload_callbacks = [];\n",
       "    root._bokeh_is_loading = undefined;\n",
       "  }\n",
       "\n",
       "const JS_MIME_TYPE = 'application/javascript';\n",
       "  const HTML_MIME_TYPE = 'text/html';\n",
       "  const EXEC_MIME_TYPE = 'application/vnd.bokehjs_exec.v0+json';\n",
       "  const CLASS_NAME = 'output_bokeh rendered_html';\n",
       "\n",
       "  /**\n",
       "   * Render data to the DOM node\n",
       "   */\n",
       "  function render(props, node) {\n",
       "    const script = document.createElement(\"script\");\n",
       "    node.appendChild(script);\n",
       "  }\n",
       "\n",
       "  /**\n",
       "   * Handle when an output is cleared or removed\n",
       "   */\n",
       "  function handleClearOutput(event, handle) {\n",
       "    function drop(id) {\n",
       "      const view = Bokeh.index.get_by_id(id)\n",
       "      if (view != null) {\n",
       "        view.model.document.clear()\n",
       "        Bokeh.index.delete(view)\n",
       "      }\n",
       "    }\n",
       "\n",
       "    const cell = handle.cell;\n",
       "\n",
       "    const id = cell.output_area._bokeh_element_id;\n",
       "    const server_id = cell.output_area._bokeh_server_id;\n",
       "\n",
       "    // Clean up Bokeh references\n",
       "    if (id != null) {\n",
       "      drop(id)\n",
       "    }\n",
       "\n",
       "    if (server_id !== undefined) {\n",
       "      // Clean up Bokeh references\n",
       "      const cmd_clean = \"from bokeh.io.state import curstate; print(curstate().uuid_to_server['\" + server_id + \"'].get_sessions()[0].document.roots[0]._id)\";\n",
       "      cell.notebook.kernel.execute(cmd_clean, {\n",
       "        iopub: {\n",
       "          output: function(msg) {\n",
       "            const id = msg.content.text.trim()\n",
       "            drop(id)\n",
       "          }\n",
       "        }\n",
       "      });\n",
       "      // Destroy server and session\n",
       "      const cmd_destroy = \"import bokeh.io.notebook as ion; ion.destroy_server('\" + server_id + \"')\";\n",
       "      cell.notebook.kernel.execute(cmd_destroy);\n",
       "    }\n",
       "  }\n",
       "\n",
       "  /**\n",
       "   * Handle when a new output is added\n",
       "   */\n",
       "  function handleAddOutput(event, handle) {\n",
       "    const output_area = handle.output_area;\n",
       "    const output = handle.output;\n",
       "\n",
       "    // limit handleAddOutput to display_data with EXEC_MIME_TYPE content only\n",
       "    if ((output.output_type != \"display_data\") || (!Object.prototype.hasOwnProperty.call(output.data, EXEC_MIME_TYPE))) {\n",
       "      return\n",
       "    }\n",
       "\n",
       "    const toinsert = output_area.element.find(\".\" + CLASS_NAME.split(' ')[0]);\n",
       "\n",
       "    if (output.metadata[EXEC_MIME_TYPE][\"id\"] !== undefined) {\n",
       "      toinsert[toinsert.length - 1].firstChild.textContent = output.data[JS_MIME_TYPE];\n",
       "      // store reference to embed id on output_area\n",
       "      output_area._bokeh_element_id = output.metadata[EXEC_MIME_TYPE][\"id\"];\n",
       "    }\n",
       "    if (output.metadata[EXEC_MIME_TYPE][\"server_id\"] !== undefined) {\n",
       "      const bk_div = document.createElement(\"div\");\n",
       "      bk_div.innerHTML = output.data[HTML_MIME_TYPE];\n",
       "      const script_attrs = bk_div.children[0].attributes;\n",
       "      for (let i = 0; i < script_attrs.length; i++) {\n",
       "        toinsert[toinsert.length - 1].firstChild.setAttribute(script_attrs[i].name, script_attrs[i].value);\n",
       "        toinsert[toinsert.length - 1].firstChild.textContent = bk_div.children[0].textContent\n",
       "      }\n",
       "      // store reference to server id on output_area\n",
       "      output_area._bokeh_server_id = output.metadata[EXEC_MIME_TYPE][\"server_id\"];\n",
       "    }\n",
       "  }\n",
       "\n",
       "  function register_renderer(events, OutputArea) {\n",
       "\n",
       "    function append_mime(data, metadata, element) {\n",
       "      // create a DOM node to render to\n",
       "      const toinsert = this.create_output_subarea(\n",
       "        metadata,\n",
       "        CLASS_NAME,\n",
       "        EXEC_MIME_TYPE\n",
       "      );\n",
       "      this.keyboard_manager.register_events(toinsert);\n",
       "      // Render to node\n",
       "      const props = {data: data, metadata: metadata[EXEC_MIME_TYPE]};\n",
       "      render(props, toinsert[toinsert.length - 1]);\n",
       "      element.append(toinsert);\n",
       "      return toinsert\n",
       "    }\n",
       "\n",
       "    /* Handle when an output is cleared or removed */\n",
       "    events.on('clear_output.CodeCell', handleClearOutput);\n",
       "    events.on('delete.Cell', handleClearOutput);\n",
       "\n",
       "    /* Handle when a new output is added */\n",
       "    events.on('output_added.OutputArea', handleAddOutput);\n",
       "\n",
       "    /**\n",
       "     * Register the mime type and append_mime function with output_area\n",
       "     */\n",
       "    OutputArea.prototype.register_mime_type(EXEC_MIME_TYPE, append_mime, {\n",
       "      /* Is output safe? */\n",
       "      safe: true,\n",
       "      /* Index of renderer in `output_area.display_order` */\n",
       "      index: 0\n",
       "    });\n",
       "  }\n",
       "\n",
       "  // register the mime type if in Jupyter Notebook environment and previously unregistered\n",
       "  if (root.Jupyter !== undefined) {\n",
       "    const events = require('base/js/events');\n",
       "    const OutputArea = require('notebook/js/outputarea').OutputArea;\n",
       "\n",
       "    if (OutputArea.prototype.mime_types().indexOf(EXEC_MIME_TYPE) == -1) {\n",
       "      register_renderer(events, OutputArea);\n",
       "    }\n",
       "  }\n",
       "  if (typeof (root._bokeh_timeout) === \"undefined\" || force === true) {\n",
       "    root._bokeh_timeout = Date.now() + 5000;\n",
       "    root._bokeh_failed_load = false;\n",
       "  }\n",
       "\n",
       "  const NB_LOAD_WARNING = {'data': {'text/html':\n",
       "     \"<div style='background-color: #fdd'>\\n\"+\n",
       "     \"<p>\\n\"+\n",
       "     \"BokehJS does not appear to have successfully loaded. If loading BokehJS from CDN, this \\n\"+\n",
       "     \"may be due to a slow or bad network connection. Possible fixes:\\n\"+\n",
       "     \"</p>\\n\"+\n",
       "     \"<ul>\\n\"+\n",
       "     \"<li>re-rerun `output_notebook()` to attempt to load from CDN again, or</li>\\n\"+\n",
       "     \"<li>use INLINE resources instead, as so:</li>\\n\"+\n",
       "     \"</ul>\\n\"+\n",
       "     \"<code>\\n\"+\n",
       "     \"from bokeh.resources import INLINE\\n\"+\n",
       "     \"output_notebook(resources=INLINE)\\n\"+\n",
       "     \"</code>\\n\"+\n",
       "     \"</div>\"}};\n",
       "\n",
       "  function display_loaded(error = null) {\n",
       "    const el = document.getElementById(\"b6999367-c3de-414e-b8a1-9792a151de12\");\n",
       "    if (el != null) {\n",
       "      const html = (() => {\n",
       "        if (typeof root.Bokeh === \"undefined\") {\n",
       "          if (error == null) {\n",
       "            return \"BokehJS is loading ...\";\n",
       "          } else {\n",
       "            return \"BokehJS failed to load.\";\n",
       "          }\n",
       "        } else {\n",
       "          const prefix = `BokehJS ${root.Bokeh.version}`;\n",
       "          if (error == null) {\n",
       "            return `${prefix} successfully loaded.`;\n",
       "          } else {\n",
       "            return `${prefix} <b>encountered errors</b> while loading and may not function as expected.`;\n",
       "          }\n",
       "        }\n",
       "      })();\n",
       "      el.innerHTML = html;\n",
       "\n",
       "      if (error != null) {\n",
       "        const wrapper = document.createElement(\"div\");\n",
       "        wrapper.style.overflow = \"auto\";\n",
       "        wrapper.style.height = \"5em\";\n",
       "        wrapper.style.resize = \"vertical\";\n",
       "        const content = document.createElement(\"div\");\n",
       "        content.style.fontFamily = \"monospace\";\n",
       "        content.style.whiteSpace = \"pre-wrap\";\n",
       "        content.style.backgroundColor = \"rgb(255, 221, 221)\";\n",
       "        content.textContent = error.stack ?? error.toString();\n",
       "        wrapper.append(content);\n",
       "        el.append(wrapper);\n",
       "      }\n",
       "    } else if (Date.now() < root._bokeh_timeout) {\n",
       "      setTimeout(() => display_loaded(error), 100);\n",
       "    }\n",
       "  }\n",
       "\n",
       "  function run_callbacks() {\n",
       "    try {\n",
       "      root._bokeh_onload_callbacks.forEach(function(callback) {\n",
       "        if (callback != null)\n",
       "          callback();\n",
       "      });\n",
       "    } finally {\n",
       "      delete root._bokeh_onload_callbacks\n",
       "    }\n",
       "    console.debug(\"Bokeh: all callbacks have finished\");\n",
       "  }\n",
       "\n",
       "  function load_libs(css_urls, js_urls, callback) {\n",
       "    if (css_urls == null) css_urls = [];\n",
       "    if (js_urls == null) js_urls = [];\n",
       "\n",
       "    root._bokeh_onload_callbacks.push(callback);\n",
       "    if (root._bokeh_is_loading > 0) {\n",
       "      console.debug(\"Bokeh: BokehJS is being loaded, scheduling callback at\", now());\n",
       "      return null;\n",
       "    }\n",
       "    if (js_urls == null || js_urls.length === 0) {\n",
       "      run_callbacks();\n",
       "      return null;\n",
       "    }\n",
       "    console.debug(\"Bokeh: BokehJS not loaded, scheduling load and callback at\", now());\n",
       "    root._bokeh_is_loading = css_urls.length + js_urls.length;\n",
       "\n",
       "    function on_load() {\n",
       "      root._bokeh_is_loading--;\n",
       "      if (root._bokeh_is_loading === 0) {\n",
       "        console.debug(\"Bokeh: all BokehJS libraries/stylesheets loaded\");\n",
       "        run_callbacks()\n",
       "      }\n",
       "    }\n",
       "\n",
       "    function on_error(url) {\n",
       "      console.error(\"failed to load \" + url);\n",
       "    }\n",
       "\n",
       "    for (let i = 0; i < css_urls.length; i++) {\n",
       "      const url = css_urls[i];\n",
       "      const element = document.createElement(\"link\");\n",
       "      element.onload = on_load;\n",
       "      element.onerror = on_error.bind(null, url);\n",
       "      element.rel = \"stylesheet\";\n",
       "      element.type = \"text/css\";\n",
       "      element.href = url;\n",
       "      console.debug(\"Bokeh: injecting link tag for BokehJS stylesheet: \", url);\n",
       "      document.body.appendChild(element);\n",
       "    }\n",
       "\n",
       "    for (let i = 0; i < js_urls.length; i++) {\n",
       "      const url = js_urls[i];\n",
       "      const element = document.createElement('script');\n",
       "      element.onload = on_load;\n",
       "      element.onerror = on_error.bind(null, url);\n",
       "      element.async = false;\n",
       "      element.src = url;\n",
       "      console.debug(\"Bokeh: injecting script tag for BokehJS library: \", url);\n",
       "      document.head.appendChild(element);\n",
       "    }\n",
       "  };\n",
       "\n",
       "  function inject_raw_css(css) {\n",
       "    const element = document.createElement(\"style\");\n",
       "    element.appendChild(document.createTextNode(css));\n",
       "    document.body.appendChild(element);\n",
       "  }\n",
       "\n",
       "  const js_urls = [\"https://cdn.bokeh.org/bokeh/release/bokeh-3.6.0.min.js\", \"https://cdn.bokeh.org/bokeh/release/bokeh-gl-3.6.0.min.js\", \"https://cdn.bokeh.org/bokeh/release/bokeh-widgets-3.6.0.min.js\", \"https://cdn.bokeh.org/bokeh/release/bokeh-tables-3.6.0.min.js\", \"https://cdn.bokeh.org/bokeh/release/bokeh-mathjax-3.6.0.min.js\"];\n",
       "  const css_urls = [];\n",
       "\n",
       "  const inline_js = [    function(Bokeh) {\n",
       "      Bokeh.set_log_level(\"info\");\n",
       "    },\n",
       "function(Bokeh) {\n",
       "    }\n",
       "  ];\n",
       "\n",
       "  function run_inline_js() {\n",
       "    if (root.Bokeh !== undefined || force === true) {\n",
       "      try {\n",
       "            for (let i = 0; i < inline_js.length; i++) {\n",
       "      inline_js[i].call(root, root.Bokeh);\n",
       "    }\n",
       "\n",
       "      } catch (error) {display_loaded(error);throw error;\n",
       "      }if (force === true) {\n",
       "        display_loaded();\n",
       "      }} else if (Date.now() < root._bokeh_timeout) {\n",
       "      setTimeout(run_inline_js, 100);\n",
       "    } else if (!root._bokeh_failed_load) {\n",
       "      console.log(\"Bokeh: BokehJS failed to load within specified timeout.\");\n",
       "      root._bokeh_failed_load = true;\n",
       "    } else if (force !== true) {\n",
       "      const cell = $(document.getElementById(\"b6999367-c3de-414e-b8a1-9792a151de12\")).parents('.cell').data().cell;\n",
       "      cell.output_area.append_execute_result(NB_LOAD_WARNING)\n",
       "    }\n",
       "  }\n",
       "\n",
       "  if (root._bokeh_is_loading === 0) {\n",
       "    console.debug(\"Bokeh: BokehJS loaded, going straight to plotting\");\n",
       "    run_inline_js();\n",
       "  } else {\n",
       "    load_libs(css_urls, js_urls, function() {\n",
       "      console.debug(\"Bokeh: BokehJS plotting callback run at\", now());\n",
       "      run_inline_js();\n",
       "    });\n",
       "  }\n",
       "}(window));"
      ],
      "application/vnd.bokehjs_load.v0+json": "'use strict';\n(function(root) {\n  function now() {\n    return new Date();\n  }\n\n  const force = true;\n\n  if (typeof root._bokeh_onload_callbacks === \"undefined\" || force === true) {\n    root._bokeh_onload_callbacks = [];\n    root._bokeh_is_loading = undefined;\n  }\n\n\n  if (typeof (root._bokeh_timeout) === \"undefined\" || force === true) {\n    root._bokeh_timeout = Date.now() + 5000;\n    root._bokeh_failed_load = false;\n  }\n\n  const NB_LOAD_WARNING = {'data': {'text/html':\n     \"<div style='background-color: #fdd'>\\n\"+\n     \"<p>\\n\"+\n     \"BokehJS does not appear to have successfully loaded. If loading BokehJS from CDN, this \\n\"+\n     \"may be due to a slow or bad network connection. Possible fixes:\\n\"+\n     \"</p>\\n\"+\n     \"<ul>\\n\"+\n     \"<li>re-rerun `output_notebook()` to attempt to load from CDN again, or</li>\\n\"+\n     \"<li>use INLINE resources instead, as so:</li>\\n\"+\n     \"</ul>\\n\"+\n     \"<code>\\n\"+\n     \"from bokeh.resources import INLINE\\n\"+\n     \"output_notebook(resources=INLINE)\\n\"+\n     \"</code>\\n\"+\n     \"</div>\"}};\n\n  function display_loaded(error = null) {\n    const el = document.getElementById(\"b6999367-c3de-414e-b8a1-9792a151de12\");\n    if (el != null) {\n      const html = (() => {\n        if (typeof root.Bokeh === \"undefined\") {\n          if (error == null) {\n            return \"BokehJS is loading ...\";\n          } else {\n            return \"BokehJS failed to load.\";\n          }\n        } else {\n          const prefix = `BokehJS ${root.Bokeh.version}`;\n          if (error == null) {\n            return `${prefix} successfully loaded.`;\n          } else {\n            return `${prefix} <b>encountered errors</b> while loading and may not function as expected.`;\n          }\n        }\n      })();\n      el.innerHTML = html;\n\n      if (error != null) {\n        const wrapper = document.createElement(\"div\");\n        wrapper.style.overflow = \"auto\";\n        wrapper.style.height = \"5em\";\n        wrapper.style.resize = \"vertical\";\n        const content = document.createElement(\"div\");\n        content.style.fontFamily = \"monospace\";\n        content.style.whiteSpace = \"pre-wrap\";\n        content.style.backgroundColor = \"rgb(255, 221, 221)\";\n        content.textContent = error.stack ?? error.toString();\n        wrapper.append(content);\n        el.append(wrapper);\n      }\n    } else if (Date.now() < root._bokeh_timeout) {\n      setTimeout(() => display_loaded(error), 100);\n    }\n  }\n\n  function run_callbacks() {\n    try {\n      root._bokeh_onload_callbacks.forEach(function(callback) {\n        if (callback != null)\n          callback();\n      });\n    } finally {\n      delete root._bokeh_onload_callbacks\n    }\n    console.debug(\"Bokeh: all callbacks have finished\");\n  }\n\n  function load_libs(css_urls, js_urls, callback) {\n    if (css_urls == null) css_urls = [];\n    if (js_urls == null) js_urls = [];\n\n    root._bokeh_onload_callbacks.push(callback);\n    if (root._bokeh_is_loading > 0) {\n      console.debug(\"Bokeh: BokehJS is being loaded, scheduling callback at\", now());\n      return null;\n    }\n    if (js_urls == null || js_urls.length === 0) {\n      run_callbacks();\n      return null;\n    }\n    console.debug(\"Bokeh: BokehJS not loaded, scheduling load and callback at\", now());\n    root._bokeh_is_loading = css_urls.length + js_urls.length;\n\n    function on_load() {\n      root._bokeh_is_loading--;\n      if (root._bokeh_is_loading === 0) {\n        console.debug(\"Bokeh: all BokehJS libraries/stylesheets loaded\");\n        run_callbacks()\n      }\n    }\n\n    function on_error(url) {\n      console.error(\"failed to load \" + url);\n    }\n\n    for (let i = 0; i < css_urls.length; i++) {\n      const url = css_urls[i];\n      const element = document.createElement(\"link\");\n      element.onload = on_load;\n      element.onerror = on_error.bind(null, url);\n      element.rel = \"stylesheet\";\n      element.type = \"text/css\";\n      element.href = url;\n      console.debug(\"Bokeh: injecting link tag for BokehJS stylesheet: \", url);\n      document.body.appendChild(element);\n    }\n\n    for (let i = 0; i < js_urls.length; i++) {\n      const url = js_urls[i];\n      const element = document.createElement('script');\n      element.onload = on_load;\n      element.onerror = on_error.bind(null, url);\n      element.async = false;\n      element.src = url;\n      console.debug(\"Bokeh: injecting script tag for BokehJS library: \", url);\n      document.head.appendChild(element);\n    }\n  };\n\n  function inject_raw_css(css) {\n    const element = document.createElement(\"style\");\n    element.appendChild(document.createTextNode(css));\n    document.body.appendChild(element);\n  }\n\n  const js_urls = [\"https://cdn.bokeh.org/bokeh/release/bokeh-3.6.0.min.js\", \"https://cdn.bokeh.org/bokeh/release/bokeh-gl-3.6.0.min.js\", \"https://cdn.bokeh.org/bokeh/release/bokeh-widgets-3.6.0.min.js\", \"https://cdn.bokeh.org/bokeh/release/bokeh-tables-3.6.0.min.js\", \"https://cdn.bokeh.org/bokeh/release/bokeh-mathjax-3.6.0.min.js\"];\n  const css_urls = [];\n\n  const inline_js = [    function(Bokeh) {\n      Bokeh.set_log_level(\"info\");\n    },\nfunction(Bokeh) {\n    }\n  ];\n\n  function run_inline_js() {\n    if (root.Bokeh !== undefined || force === true) {\n      try {\n            for (let i = 0; i < inline_js.length; i++) {\n      inline_js[i].call(root, root.Bokeh);\n    }\n\n      } catch (error) {display_loaded(error);throw error;\n      }if (force === true) {\n        display_loaded();\n      }} else if (Date.now() < root._bokeh_timeout) {\n      setTimeout(run_inline_js, 100);\n    } else if (!root._bokeh_failed_load) {\n      console.log(\"Bokeh: BokehJS failed to load within specified timeout.\");\n      root._bokeh_failed_load = true;\n    } else if (force !== true) {\n      const cell = $(document.getElementById(\"b6999367-c3de-414e-b8a1-9792a151de12\")).parents('.cell').data().cell;\n      cell.output_area.append_execute_result(NB_LOAD_WARNING)\n    }\n  }\n\n  if (root._bokeh_is_loading === 0) {\n    console.debug(\"Bokeh: BokehJS loaded, going straight to plotting\");\n    run_inline_js();\n  } else {\n    load_libs(css_urls, js_urls, function() {\n      console.debug(\"Bokeh: BokehJS plotting callback run at\", now());\n      run_inline_js();\n    });\n  }\n}(window));"
     },
     "metadata": {},
     "output_type": "display_data"
    },
    {
     "data": {
      "text/html": [
       "\n",
       "  <div id=\"fe1d6a22-e970-43d4-b25d-12d6ffa6643a\" data-root-id=\"p1432\" style=\"display: contents;\"></div>\n"
      ]
     },
     "metadata": {},
     "output_type": "display_data"
    },
    {
     "data": {
      "application/javascript": [
       "(function(root) {\n",
       "  function embed_document(root) {\n",
       "  const docs_json = {\"841533ab-576a-45d2-8733-e8b5b17771cd\":{\"version\":\"3.6.0\",\"title\":\"Bokeh Application\",\"roots\":[{\"type\":\"object\",\"name\":\"Figure\",\"id\":\"p1432\",\"attributes\":{\"width\":400,\"height\":400,\"x_range\":{\"type\":\"object\",\"name\":\"DataRange1d\",\"id\":\"p1433\"},\"y_range\":{\"type\":\"object\",\"name\":\"DataRange1d\",\"id\":\"p1434\"},\"x_scale\":{\"type\":\"object\",\"name\":\"LinearScale\",\"id\":\"p1441\"},\"y_scale\":{\"type\":\"object\",\"name\":\"LinearScale\",\"id\":\"p1442\"},\"title\":{\"type\":\"object\",\"name\":\"Title\",\"id\":\"p1466\",\"attributes\":{\"text\":\"First two principal components\"}},\"renderers\":[{\"type\":\"object\",\"name\":\"GlyphRenderer\",\"id\":\"p1473\",\"attributes\":{\"data_source\":{\"type\":\"object\",\"name\":\"ColumnDataSource\",\"id\":\"p1467\",\"attributes\":{\"selected\":{\"type\":\"object\",\"name\":\"Selection\",\"id\":\"p1468\",\"attributes\":{\"indices\":[],\"line_indices\":[]}},\"selection_policy\":{\"type\":\"object\",\"name\":\"UnionRenderers\",\"id\":\"p1469\"},\"data\":{\"type\":\"map\",\"entries\":[[\"x\",{\"type\":\"ndarray\",\"array\":{\"type\":\"bytes\",\"data\":\"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\"},\"shape\":[272],\"dtype\":\"float64\",\"order\":\"little\"}],[\"y\",{\"type\":\"ndarray\",\"array\":{\"type\":\"bytes\",\"data\":\"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\"},\"shape\":[272],\"dtype\":\"float64\",\"order\":\"little\"}],[\"hatch_color\",[\"navy\",\"navy\",\"navy\",\"navy\",\"navy\",\"navy\",\"navy\",\"navy\",\"navy\",\"navy\",\"navy\",\"navy\",\"navy\",\"navy\",\"navy\",\"navy\",\"navy\",\"navy\",\"navy\",\"navy\",\"navy\",\"navy\",\"navy\",\"navy\",\"navy\",\"navy\",\"navy\",\"navy\",\"navy\",\"navy\",\"navy\",\"navy\",\"navy\",\"navy\",\"navy\",\"navy\",\"navy\",\"navy\",\"navy\",\"navy\",\"navy\",\"navy\",\"navy\",\"navy\",\"navy\",\"navy\",\"navy\",\"navy\",\"navy\",\"navy\",\"navy\",\"navy\",\"navy\",\"navy\",\"navy\",\"navy\",\"navy\",\"navy\",\"navy\",\"navy\",\"navy\",\"navy\",\"navy\",\"navy\",\"navy\",\"navy\",\"navy\",\"navy\",\"navy\",\"navy\",\"navy\",\"navy\",\"navy\",\"yellow\",\"navy\",\"navy\",\"navy\",\"yellow\",\"navy\",\"navy\",\"navy\",\"navy\",\"navy\",\"navy\",\"navy\",\"navy\",\"navy\",\"navy\",\"navy\",\"yellow\",\"navy\",\"navy\",\"navy\",\"navy\",\"navy\",\"navy\",\"navy\",\"navy\",\"navy\",\"yellow\",\"navy\",\"navy\",\"navy\",\"navy\",\"navy\",\"navy\",\"navy\",\"navy\",\"navy\",\"navy\",\"navy\",\"navy\",\"navy\",\"navy\",\"navy\",\"navy\",\"navy\",\"navy\",\"navy\",\"navy\",\"navy\",\"navy\",\"navy\",\"navy\",\"navy\",\"navy\",\"navy\",\"navy\",\"navy\",\"navy\",\"navy\",\"navy\",\"navy\",\"navy\",\"navy\",\"yellow\",\"yellow\",\"navy\",\"navy\",\"navy\",\"navy\",\"navy\",\"navy\",\"navy\",\"navy\",\"navy\",\"navy\",\"navy\",\"navy\",\"navy\",\"navy\",\"navy\",\"navy\",\"navy\",\"navy\",\"navy\",\"navy\",\"navy\",\"navy\",\"navy\",\"navy\",\"yellow\",\"navy\",\"navy\",\"navy\",\"navy\",\"yellow\",\"navy\",\"navy\",\"navy\",\"navy\",\"navy\",\"navy\",\"navy\",\"navy\",\"navy\",\"navy\",\"navy\",\"navy\",\"navy\",\"navy\",\"navy\",\"navy\",\"navy\",\"navy\",\"navy\",\"navy\",\"navy\",\"navy\",\"navy\",\"navy\",\"navy\",\"navy\",\"navy\",\"navy\",\"navy\",\"navy\",\"navy\",\"navy\",\"navy\",\"navy\",\"navy\",\"navy\",\"navy\",\"navy\",\"navy\",\"navy\",\"navy\",\"navy\",\"navy\",\"navy\",\"navy\",\"navy\",\"navy\",\"navy\",\"yellow\",\"navy\",\"navy\",\"navy\",\"navy\",\"navy\",\"navy\",\"navy\",\"navy\",\"navy\",\"yellow\",\"navy\",\"navy\",\"navy\",\"navy\",\"navy\",\"navy\",\"yellow\",\"navy\",\"yellow\",\"navy\",\"navy\",\"navy\",\"navy\",\"navy\",\"navy\",\"navy\",\"navy\",\"navy\",\"navy\",\"navy\",\"navy\",\"navy\",\"navy\",\"navy\",\"navy\",\"navy\",\"navy\",\"navy\",\"navy\",\"navy\",\"navy\",\"navy\",\"navy\",\"navy\",\"navy\",\"navy\",\"navy\",\"navy\",\"navy\",\"navy\",\"navy\",\"navy\",\"navy\",\"navy\",\"navy\",\"navy\"]],[\"line_color\",[\"navy\",\"navy\",\"navy\",\"navy\",\"navy\",\"navy\",\"navy\",\"navy\",\"navy\",\"navy\",\"navy\",\"navy\",\"navy\",\"navy\",\"navy\",\"navy\",\"navy\",\"navy\",\"navy\",\"navy\",\"navy\",\"navy\",\"navy\",\"navy\",\"navy\",\"navy\",\"navy\",\"navy\",\"navy\",\"navy\",\"navy\",\"navy\",\"navy\",\"navy\",\"navy\",\"navy\",\"navy\",\"navy\",\"navy\",\"navy\",\"navy\",\"navy\",\"navy\",\"navy\",\"navy\",\"navy\",\"navy\",\"navy\",\"navy\",\"navy\",\"navy\",\"navy\",\"navy\",\"navy\",\"navy\",\"navy\",\"navy\",\"navy\",\"navy\",\"navy\",\"navy\",\"navy\",\"navy\",\"navy\",\"navy\",\"navy\",\"navy\",\"navy\",\"navy\",\"navy\",\"navy\",\"navy\",\"navy\",\"yellow\",\"navy\",\"navy\",\"navy\",\"yellow\",\"navy\",\"navy\",\"navy\",\"navy\",\"navy\",\"navy\",\"navy\",\"navy\",\"navy\",\"navy\",\"navy\",\"yellow\",\"navy\",\"navy\",\"navy\",\"navy\",\"navy\",\"navy\",\"navy\",\"navy\",\"navy\",\"yellow\",\"navy\",\"navy\",\"navy\",\"navy\",\"navy\",\"navy\",\"navy\",\"navy\",\"navy\",\"navy\",\"navy\",\"navy\",\"navy\",\"navy\",\"navy\",\"navy\",\"navy\",\"navy\",\"navy\",\"navy\",\"navy\",\"navy\",\"navy\",\"navy\",\"navy\",\"navy\",\"navy\",\"navy\",\"navy\",\"navy\",\"navy\",\"navy\",\"navy\",\"navy\",\"navy\",\"yellow\",\"yellow\",\"navy\",\"navy\",\"navy\",\"navy\",\"navy\",\"navy\",\"navy\",\"navy\",\"navy\",\"navy\",\"navy\",\"navy\",\"navy\",\"navy\",\"navy\",\"navy\",\"navy\",\"navy\",\"navy\",\"navy\",\"navy\",\"navy\",\"navy\",\"navy\",\"yellow\",\"navy\",\"navy\",\"navy\",\"navy\",\"yellow\",\"navy\",\"navy\",\"navy\",\"navy\",\"navy\",\"navy\",\"navy\",\"navy\",\"navy\",\"navy\",\"navy\",\"navy\",\"navy\",\"navy\",\"navy\",\"navy\",\"navy\",\"navy\",\"navy\",\"navy\",\"navy\",\"navy\",\"navy\",\"navy\",\"navy\",\"navy\",\"navy\",\"navy\",\"navy\",\"navy\",\"navy\",\"navy\",\"navy\",\"navy\",\"navy\",\"navy\",\"navy\",\"navy\",\"navy\",\"navy\",\"navy\",\"navy\",\"navy\",\"navy\",\"navy\",\"navy\",\"navy\",\"navy\",\"yellow\",\"navy\",\"navy\",\"navy\",\"navy\",\"navy\",\"navy\",\"navy\",\"navy\",\"navy\",\"yellow\",\"navy\",\"navy\",\"navy\",\"navy\",\"navy\",\"navy\",\"yellow\",\"navy\",\"yellow\",\"navy\",\"navy\",\"navy\",\"navy\",\"navy\",\"navy\",\"navy\",\"navy\",\"navy\",\"navy\",\"navy\",\"navy\",\"navy\",\"navy\",\"navy\",\"navy\",\"navy\",\"navy\",\"navy\",\"navy\",\"navy\",\"navy\",\"navy\",\"navy\",\"navy\",\"navy\",\"navy\",\"navy\",\"navy\",\"navy\",\"navy\",\"navy\",\"navy\",\"navy\",\"navy\",\"navy\",\"navy\"]],[\"fill_color\",[\"navy\",\"navy\",\"navy\",\"navy\",\"navy\",\"navy\",\"navy\",\"navy\",\"navy\",\"navy\",\"navy\",\"navy\",\"navy\",\"navy\",\"navy\",\"navy\",\"navy\",\"navy\",\"navy\",\"navy\",\"navy\",\"navy\",\"navy\",\"navy\",\"navy\",\"navy\",\"navy\",\"navy\",\"navy\",\"navy\",\"navy\",\"navy\",\"navy\",\"navy\",\"navy\",\"navy\",\"navy\",\"navy\",\"navy\",\"navy\",\"navy\",\"navy\",\"navy\",\"navy\",\"navy\",\"navy\",\"navy\",\"navy\",\"navy\",\"navy\",\"navy\",\"navy\",\"navy\",\"navy\",\"navy\",\"navy\",\"navy\",\"navy\",\"navy\",\"navy\",\"navy\",\"navy\",\"navy\",\"navy\",\"navy\",\"navy\",\"navy\",\"navy\",\"navy\",\"navy\",\"navy\",\"navy\",\"navy\",\"yellow\",\"navy\",\"navy\",\"navy\",\"yellow\",\"navy\",\"navy\",\"navy\",\"navy\",\"navy\",\"navy\",\"navy\",\"navy\",\"navy\",\"navy\",\"navy\",\"yellow\",\"navy\",\"navy\",\"navy\",\"navy\",\"navy\",\"navy\",\"navy\",\"navy\",\"navy\",\"yellow\",\"navy\",\"navy\",\"navy\",\"navy\",\"navy\",\"navy\",\"navy\",\"navy\",\"navy\",\"navy\",\"navy\",\"navy\",\"navy\",\"navy\",\"navy\",\"navy\",\"navy\",\"navy\",\"navy\",\"navy\",\"navy\",\"navy\",\"navy\",\"navy\",\"navy\",\"navy\",\"navy\",\"navy\",\"navy\",\"navy\",\"navy\",\"navy\",\"navy\",\"navy\",\"navy\",\"yellow\",\"yellow\",\"navy\",\"navy\",\"navy\",\"navy\",\"navy\",\"navy\",\"navy\",\"navy\",\"navy\",\"navy\",\"navy\",\"navy\",\"navy\",\"navy\",\"navy\",\"navy\",\"navy\",\"navy\",\"navy\",\"navy\",\"navy\",\"navy\",\"navy\",\"navy\",\"yellow\",\"navy\",\"navy\",\"navy\",\"navy\",\"yellow\",\"navy\",\"navy\",\"navy\",\"navy\",\"navy\",\"navy\",\"navy\",\"navy\",\"navy\",\"navy\",\"navy\",\"navy\",\"navy\",\"navy\",\"navy\",\"navy\",\"navy\",\"navy\",\"navy\",\"navy\",\"navy\",\"navy\",\"navy\",\"navy\",\"navy\",\"navy\",\"navy\",\"navy\",\"navy\",\"navy\",\"navy\",\"navy\",\"navy\",\"navy\",\"navy\",\"navy\",\"navy\",\"navy\",\"navy\",\"navy\",\"navy\",\"navy\",\"navy\",\"navy\",\"navy\",\"navy\",\"navy\",\"navy\",\"yellow\",\"navy\",\"navy\",\"navy\",\"navy\",\"navy\",\"navy\",\"navy\",\"navy\",\"navy\",\"yellow\",\"navy\",\"navy\",\"navy\",\"navy\",\"navy\",\"navy\",\"yellow\",\"navy\",\"yellow\",\"navy\",\"navy\",\"navy\",\"navy\",\"navy\",\"navy\",\"navy\",\"navy\",\"navy\",\"navy\",\"navy\",\"navy\",\"navy\",\"navy\",\"navy\",\"navy\",\"navy\",\"navy\",\"navy\",\"navy\",\"navy\",\"navy\",\"navy\",\"navy\",\"navy\",\"navy\",\"navy\",\"navy\",\"navy\",\"navy\",\"navy\",\"navy\",\"navy\",\"navy\",\"navy\",\"navy\",\"navy\"]]]}}},\"view\":{\"type\":\"object\",\"name\":\"CDSView\",\"id\":\"p1474\",\"attributes\":{\"filter\":{\"type\":\"object\",\"name\":\"AllIndices\",\"id\":\"p1475\"}}},\"glyph\":{\"type\":\"object\",\"name\":\"Scatter\",\"id\":\"p1470\",\"attributes\":{\"x\":{\"type\":\"field\",\"field\":\"x\"},\"y\":{\"type\":\"field\",\"field\":\"y\"},\"size\":{\"type\":\"value\",\"value\":20},\"line_color\":{\"type\":\"field\",\"field\":\"line_color\"},\"line_alpha\":{\"type\":\"value\",\"value\":0.3},\"fill_color\":{\"type\":\"field\",\"field\":\"fill_color\"},\"fill_alpha\":{\"type\":\"value\",\"value\":0.3},\"hatch_color\":{\"type\":\"field\",\"field\":\"hatch_color\"},\"hatch_alpha\":{\"type\":\"value\",\"value\":0.3}}},\"nonselection_glyph\":{\"type\":\"object\",\"name\":\"Scatter\",\"id\":\"p1471\",\"attributes\":{\"x\":{\"type\":\"field\",\"field\":\"x\"},\"y\":{\"type\":\"field\",\"field\":\"y\"},\"size\":{\"type\":\"value\",\"value\":20},\"line_color\":{\"type\":\"field\",\"field\":\"line_color\"},\"line_alpha\":{\"type\":\"value\",\"value\":0.1},\"fill_color\":{\"type\":\"field\",\"field\":\"fill_color\"},\"fill_alpha\":{\"type\":\"value\",\"value\":0.1},\"hatch_color\":{\"type\":\"field\",\"field\":\"hatch_color\"},\"hatch_alpha\":{\"type\":\"value\",\"value\":0.1}}},\"muted_glyph\":{\"type\":\"object\",\"name\":\"Scatter\",\"id\":\"p1472\",\"attributes\":{\"x\":{\"type\":\"field\",\"field\":\"x\"},\"y\":{\"type\":\"field\",\"field\":\"y\"},\"size\":{\"type\":\"value\",\"value\":20},\"line_color\":{\"type\":\"field\",\"field\":\"line_color\"},\"line_alpha\":{\"type\":\"value\",\"value\":0.2},\"fill_color\":{\"type\":\"field\",\"field\":\"fill_color\"},\"fill_alpha\":{\"type\":\"value\",\"value\":0.2},\"hatch_color\":{\"type\":\"field\",\"field\":\"hatch_color\"},\"hatch_alpha\":{\"type\":\"value\",\"value\":0.2}}}}}],\"toolbar\":{\"type\":\"object\",\"name\":\"Toolbar\",\"id\":\"p1440\",\"attributes\":{\"tools\":[{\"type\":\"object\",\"name\":\"PanTool\",\"id\":\"p1453\"},{\"type\":\"object\",\"name\":\"WheelZoomTool\",\"id\":\"p1454\",\"attributes\":{\"renderers\":\"auto\"}},{\"type\":\"object\",\"name\":\"BoxZoomTool\",\"id\":\"p1455\",\"attributes\":{\"overlay\":{\"type\":\"object\",\"name\":\"BoxAnnotation\",\"id\":\"p1456\",\"attributes\":{\"syncable\":false,\"line_color\":\"black\",\"line_alpha\":1.0,\"line_width\":2,\"line_dash\":[4,4],\"fill_color\":\"lightgrey\",\"fill_alpha\":0.5,\"level\":\"overlay\",\"visible\":false,\"left\":{\"type\":\"number\",\"value\":\"nan\"},\"right\":{\"type\":\"number\",\"value\":\"nan\"},\"top\":{\"type\":\"number\",\"value\":\"nan\"},\"bottom\":{\"type\":\"number\",\"value\":\"nan\"},\"left_units\":\"canvas\",\"right_units\":\"canvas\",\"top_units\":\"canvas\",\"bottom_units\":\"canvas\",\"handles\":{\"type\":\"object\",\"name\":\"BoxInteractionHandles\",\"id\":\"p1462\",\"attributes\":{\"all\":{\"type\":\"object\",\"name\":\"AreaVisuals\",\"id\":\"p1461\",\"attributes\":{\"fill_color\":\"white\",\"hover_fill_color\":\"lightgray\"}}}}}}}},{\"type\":\"object\",\"name\":\"SaveTool\",\"id\":\"p1463\"},{\"type\":\"object\",\"name\":\"ResetTool\",\"id\":\"p1464\"},{\"type\":\"object\",\"name\":\"HelpTool\",\"id\":\"p1465\"}]}},\"left\":[{\"type\":\"object\",\"name\":\"LinearAxis\",\"id\":\"p1448\",\"attributes\":{\"ticker\":{\"type\":\"object\",\"name\":\"BasicTicker\",\"id\":\"p1449\",\"attributes\":{\"mantissas\":[1,2,5]}},\"formatter\":{\"type\":\"object\",\"name\":\"BasicTickFormatter\",\"id\":\"p1450\"},\"axis_label\":\"Second Principal Component\",\"major_label_policy\":{\"type\":\"object\",\"name\":\"AllLabels\",\"id\":\"p1451\"}}}],\"below\":[{\"type\":\"object\",\"name\":\"LinearAxis\",\"id\":\"p1443\",\"attributes\":{\"ticker\":{\"type\":\"object\",\"name\":\"BasicTicker\",\"id\":\"p1444\",\"attributes\":{\"mantissas\":[1,2,5]}},\"formatter\":{\"type\":\"object\",\"name\":\"BasicTickFormatter\",\"id\":\"p1445\"},\"axis_label\":\"First Principal Component\",\"major_label_policy\":{\"type\":\"object\",\"name\":\"AllLabels\",\"id\":\"p1446\"}}}],\"center\":[{\"type\":\"object\",\"name\":\"Grid\",\"id\":\"p1447\",\"attributes\":{\"axis\":{\"id\":\"p1443\"}}},{\"type\":\"object\",\"name\":\"Grid\",\"id\":\"p1452\",\"attributes\":{\"dimension\":1,\"axis\":{\"id\":\"p1448\"}}}]}}]}};\n",
       "  const render_items = [{\"docid\":\"841533ab-576a-45d2-8733-e8b5b17771cd\",\"roots\":{\"p1432\":\"fe1d6a22-e970-43d4-b25d-12d6ffa6643a\"},\"root_ids\":[\"p1432\"]}];\n",
       "  void root.Bokeh.embed.embed_items_notebook(docs_json, render_items);\n",
       "  }\n",
       "  if (root.Bokeh !== undefined) {\n",
       "    embed_document(root);\n",
       "  } else {\n",
       "    let attempts = 0;\n",
       "    const timer = setInterval(function(root) {\n",
       "      if (root.Bokeh !== undefined) {\n",
       "        clearInterval(timer);\n",
       "        embed_document(root);\n",
       "      } else {\n",
       "        attempts++;\n",
       "        if (attempts > 100) {\n",
       "          clearInterval(timer);\n",
       "          console.log(\"Bokeh: ERROR: Unable to run BokehJS code because BokehJS library is missing\");\n",
       "        }\n",
       "      }\n",
       "    }, 10, root)\n",
       "  }\n",
       "})(window);"
      ],
      "application/vnd.bokehjs_exec.v0+json": ""
     },
     "metadata": {
      "application/vnd.bokehjs_exec.v0+json": {
       "id": "p1432"
      }
     },
     "output_type": "display_data"
    }
   ],
   "source": [
    "from bokeh.plotting import figure, show\n",
    "from bokeh.io import output_notebook # enables plot interface in J notebook\n",
    "output_notebook()\n",
    "\n",
    "p = figure(width=400, height=400)\n",
    "p.title = \"First two principal components\"\n",
    "p.xaxis.axis_label = \"First Principal Component\"\n",
    "p.yaxis.axis_label = \"Second Principal Component\"\n",
    "# add a scatter circle renderer with a size, color, and alpha\n",
    "p.scatter(components[:,0], components[:,1], size=20, color=[\"yellow\" if i  else \"navy\" for i in df[\"Cancer\"]], alpha=0.3)\n",
    "# show the results\n",
    "show(p)\n"
   ]
  },
  {
   "cell_type": "code",
   "execution_count": 152,
   "id": "d0cc8847-7540-476c-b738-1423ad167f65",
   "metadata": {},
   "outputs": [
    {
     "data": {
      "text/plain": [
       "array([5.59198905e+01, 4.24822965e+01, 1.22012855e+00, 3.76390434e-01,\n",
       "       1.29403314e-03])"
      ]
     },
     "execution_count": 152,
     "metadata": {},
     "output_type": "execute_result"
    }
   ],
   "source": [
    "var_values*100"
   ]
  },
  {
   "cell_type": "code",
   "execution_count": null,
   "id": "6402f092-65ce-4082-9da2-d0e3a06a3c8a",
   "metadata": {},
   "outputs": [],
   "source": []
  }
 ],
 "metadata": {
  "kernelspec": {
   "display_name": "Python 3 (ipykernel)",
   "language": "python",
   "name": "python3"
  },
  "language_info": {
   "codemirror_mode": {
    "name": "ipython",
    "version": 3
   },
   "file_extension": ".py",
   "mimetype": "text/x-python",
   "name": "python",
   "nbconvert_exporter": "python",
   "pygments_lexer": "ipython3",
   "version": "3.12.7"
  }
 },
 "nbformat": 4,
 "nbformat_minor": 5
}
